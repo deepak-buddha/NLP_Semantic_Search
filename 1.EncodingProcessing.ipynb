{
 "cells": [
  {
   "cell_type": "code",
   "execution_count": 1,
   "metadata": {},
   "outputs": [],
   "source": [
    "import glob\n",
    "import pandas as pd\n",
    "import numpy as np\n",
    "import xml.etree.ElementTree as et\n",
    "import os\n",
    "from datetime import datetime\n",
    "import re\n",
    "from tqdm import tqdm"
   ]
  },
  {
   "cell_type": "code",
   "execution_count": 2,
   "metadata": {},
   "outputs": [],
   "source": [
    "#Opening out stored filenames and their encodings\n",
    "with open('Blogs/output.txt','r') as f:\n",
    "    file =f.read()"
   ]
  },
  {
   "cell_type": "code",
   "execution_count": 3,
   "metadata": {},
   "outputs": [],
   "source": [
    "data = list(re.split('\\n|: |; | |charset=',file))"
   ]
  },
  {
   "cell_type": "code",
   "execution_count": 5,
   "metadata": {},
   "outputs": [],
   "source": [
    "#removing empty elements in list\n",
    "while '' in data:\n",
    "    data.remove('')"
   ]
  },
  {
   "cell_type": "code",
   "execution_count": 6,
   "metadata": {},
   "outputs": [
    {
     "data": {
      "text/plain": [
       "57963"
      ]
     },
     "execution_count": 6,
     "metadata": {},
     "output_type": "execute_result"
    }
   ],
   "source": [
    "len(data)"
   ]
  },
  {
   "cell_type": "code",
   "execution_count": 7,
   "metadata": {},
   "outputs": [],
   "source": [
    "df = pd.DataFrame(columns='Filename Type Encoding'.split())"
   ]
  },
  {
   "cell_type": "code",
   "execution_count": 8,
   "metadata": {},
   "outputs": [
    {
     "data": {
      "text/html": [
       "<div>\n",
       "<style scoped>\n",
       "    .dataframe tbody tr th:only-of-type {\n",
       "        vertical-align: middle;\n",
       "    }\n",
       "\n",
       "    .dataframe tbody tr th {\n",
       "        vertical-align: top;\n",
       "    }\n",
       "\n",
       "    .dataframe thead th {\n",
       "        text-align: right;\n",
       "    }\n",
       "</style>\n",
       "<table border=\"1\" class=\"dataframe\">\n",
       "  <thead>\n",
       "    <tr style=\"text-align: right;\">\n",
       "      <th></th>\n",
       "      <th>Filename</th>\n",
       "      <th>Type</th>\n",
       "      <th>Encoding</th>\n",
       "    </tr>\n",
       "  </thead>\n",
       "  <tbody>\n",
       "  </tbody>\n",
       "</table>\n",
       "</div>"
      ],
      "text/plain": [
       "Empty DataFrame\n",
       "Columns: [Filename, Type, Encoding]\n",
       "Index: []"
      ]
     },
     "execution_count": 8,
     "metadata": {},
     "output_type": "execute_result"
    }
   ],
   "source": [
    "df"
   ]
  },
  {
   "cell_type": "code",
   "execution_count": 9,
   "metadata": {},
   "outputs": [],
   "source": [
    "i=0\n",
    "while i<len(data):\n",
    "    filename = data[i]\n",
    "    i+=1\n",
    "    type_data = data[i]\n",
    "    i+=1\n",
    "    encoding = data[i]\n",
    "    i+=1\n",
    "    dict_data = {'Filename':filename,'Type':type_data,'Encoding':encoding}\n",
    "    df = df.append(dict_data,ignore_index=True)"
   ]
  },
  {
   "cell_type": "code",
   "execution_count": 10,
   "metadata": {},
   "outputs": [],
   "source": [
    "df.drop(19320,axis=0,inplace=True)"
   ]
  },
  {
   "cell_type": "code",
   "execution_count": 11,
   "metadata": {},
   "outputs": [
    {
     "data": {
      "text/html": [
       "<div>\n",
       "<style scoped>\n",
       "    .dataframe tbody tr th:only-of-type {\n",
       "        vertical-align: middle;\n",
       "    }\n",
       "\n",
       "    .dataframe tbody tr th {\n",
       "        vertical-align: top;\n",
       "    }\n",
       "\n",
       "    .dataframe thead th {\n",
       "        text-align: right;\n",
       "    }\n",
       "</style>\n",
       "<table border=\"1\" class=\"dataframe\">\n",
       "  <thead>\n",
       "    <tr style=\"text-align: right;\">\n",
       "      <th></th>\n",
       "      <th>Filename</th>\n",
       "      <th>Type</th>\n",
       "      <th>Encoding</th>\n",
       "    </tr>\n",
       "  </thead>\n",
       "  <tbody>\n",
       "    <tr>\n",
       "      <th>0</th>\n",
       "      <td>1000331.female.37.indUnk.Leo.xml</td>\n",
       "      <td>text/plain</td>\n",
       "      <td>us-ascii</td>\n",
       "    </tr>\n",
       "    <tr>\n",
       "      <th>1</th>\n",
       "      <td>1000866.female.17.Student.Libra.xml</td>\n",
       "      <td>text/plain</td>\n",
       "      <td>unknown-8bit</td>\n",
       "    </tr>\n",
       "    <tr>\n",
       "      <th>2</th>\n",
       "      <td>1004904.male.23.Arts.Capricorn.xml</td>\n",
       "      <td>text/plain</td>\n",
       "      <td>iso-8859-1</td>\n",
       "    </tr>\n",
       "    <tr>\n",
       "      <th>3</th>\n",
       "      <td>1005076.female.25.Arts.Cancer.xml</td>\n",
       "      <td>text/plain</td>\n",
       "      <td>us-ascii</td>\n",
       "    </tr>\n",
       "    <tr>\n",
       "      <th>4</th>\n",
       "      <td>1005545.male.25.Engineering.Sagittarius.xml</td>\n",
       "      <td>text/plain</td>\n",
       "      <td>utf-8</td>\n",
       "    </tr>\n",
       "    <tr>\n",
       "      <th>...</th>\n",
       "      <td>...</td>\n",
       "      <td>...</td>\n",
       "      <td>...</td>\n",
       "    </tr>\n",
       "    <tr>\n",
       "      <th>19315</th>\n",
       "      <td>996147.female.36.Telecommunications.Leo.xml</td>\n",
       "      <td>text/plain</td>\n",
       "      <td>us-ascii</td>\n",
       "    </tr>\n",
       "    <tr>\n",
       "      <th>19316</th>\n",
       "      <td>997488.male.25.indUnk.Cancer.xml</td>\n",
       "      <td>text/plain</td>\n",
       "      <td>us-ascii</td>\n",
       "    </tr>\n",
       "    <tr>\n",
       "      <th>19317</th>\n",
       "      <td>998237.female.16.indUnk.Virgo.xml</td>\n",
       "      <td>text/plain</td>\n",
       "      <td>unknown-8bit</td>\n",
       "    </tr>\n",
       "    <tr>\n",
       "      <th>19318</th>\n",
       "      <td>998966.male.27.indUnk.Taurus.xml</td>\n",
       "      <td>text/plain</td>\n",
       "      <td>us-ascii</td>\n",
       "    </tr>\n",
       "    <tr>\n",
       "      <th>19319</th>\n",
       "      <td>999503.male.25.Internet.Cancer.xml</td>\n",
       "      <td>text/plain</td>\n",
       "      <td>utf-8</td>\n",
       "    </tr>\n",
       "  </tbody>\n",
       "</table>\n",
       "<p>19320 rows × 3 columns</p>\n",
       "</div>"
      ],
      "text/plain": [
       "                                          Filename        Type      Encoding\n",
       "0                 1000331.female.37.indUnk.Leo.xml  text/plain      us-ascii\n",
       "1              1000866.female.17.Student.Libra.xml  text/plain  unknown-8bit\n",
       "2               1004904.male.23.Arts.Capricorn.xml  text/plain    iso-8859-1\n",
       "3                1005076.female.25.Arts.Cancer.xml  text/plain      us-ascii\n",
       "4      1005545.male.25.Engineering.Sagittarius.xml  text/plain         utf-8\n",
       "...                                            ...         ...           ...\n",
       "19315  996147.female.36.Telecommunications.Leo.xml  text/plain      us-ascii\n",
       "19316             997488.male.25.indUnk.Cancer.xml  text/plain      us-ascii\n",
       "19317            998237.female.16.indUnk.Virgo.xml  text/plain  unknown-8bit\n",
       "19318             998966.male.27.indUnk.Taurus.xml  text/plain      us-ascii\n",
       "19319           999503.male.25.Internet.Cancer.xml  text/plain         utf-8\n",
       "\n",
       "[19320 rows x 3 columns]"
      ]
     },
     "execution_count": 11,
     "metadata": {},
     "output_type": "execute_result"
    }
   ],
   "source": [
    "df"
   ]
  },
  {
   "cell_type": "code",
   "execution_count": 12,
   "metadata": {},
   "outputs": [
    {
     "data": {
      "text/plain": [
       "text/plain                  19239\n",
       "application/octet-stream       67\n",
       "text/x-c                       14\n",
       "Name: Type, dtype: int64"
      ]
     },
     "execution_count": 12,
     "metadata": {},
     "output_type": "execute_result"
    }
   ],
   "source": [
    "df['Type'].value_counts()"
   ]
  },
  {
   "cell_type": "code",
   "execution_count": 13,
   "metadata": {},
   "outputs": [
    {
     "data": {
      "text/plain": [
       "us-ascii        11802\n",
       "utf-8            6859\n",
       "unknown-8bit      497\n",
       "iso-8859-1         95\n",
       "binary             67\n",
       "Name: Encoding, dtype: int64"
      ]
     },
     "execution_count": 13,
     "metadata": {},
     "output_type": "execute_result"
    }
   ],
   "source": [
    "df['Encoding'].value_counts()"
   ]
  },
  {
   "cell_type": "code",
   "execution_count": 14,
   "metadata": {},
   "outputs": [
    {
     "data": {
      "text/html": [
       "<div>\n",
       "<style scoped>\n",
       "    .dataframe tbody tr th:only-of-type {\n",
       "        vertical-align: middle;\n",
       "    }\n",
       "\n",
       "    .dataframe tbody tr th {\n",
       "        vertical-align: top;\n",
       "    }\n",
       "\n",
       "    .dataframe thead th {\n",
       "        text-align: right;\n",
       "    }\n",
       "</style>\n",
       "<table border=\"1\" class=\"dataframe\">\n",
       "  <thead>\n",
       "    <tr style=\"text-align: right;\">\n",
       "      <th></th>\n",
       "      <th>Filename</th>\n",
       "      <th>Type</th>\n",
       "      <th>Encoding</th>\n",
       "    </tr>\n",
       "  </thead>\n",
       "  <tbody>\n",
       "    <tr>\n",
       "      <th>123</th>\n",
       "      <td>1107146.female.16.Student.Libra.xml</td>\n",
       "      <td>application/octet-stream</td>\n",
       "      <td>binary</td>\n",
       "    </tr>\n",
       "    <tr>\n",
       "      <th>197</th>\n",
       "      <td>1169202.male.26.Science.Libra.xml</td>\n",
       "      <td>application/octet-stream</td>\n",
       "      <td>binary</td>\n",
       "    </tr>\n",
       "    <tr>\n",
       "      <th>473</th>\n",
       "      <td>1395900.male.27.indUnk.Taurus.xml</td>\n",
       "      <td>application/octet-stream</td>\n",
       "      <td>binary</td>\n",
       "    </tr>\n",
       "    <tr>\n",
       "      <th>514</th>\n",
       "      <td>1427070.female.25.indUnk.Gemini.xml</td>\n",
       "      <td>application/octet-stream</td>\n",
       "      <td>binary</td>\n",
       "    </tr>\n",
       "    <tr>\n",
       "      <th>692</th>\n",
       "      <td>1583261.female.16.Arts.Gemini.xml</td>\n",
       "      <td>application/octet-stream</td>\n",
       "      <td>binary</td>\n",
       "    </tr>\n",
       "    <tr>\n",
       "      <th>...</th>\n",
       "      <td>...</td>\n",
       "      <td>...</td>\n",
       "      <td>...</td>\n",
       "    </tr>\n",
       "    <tr>\n",
       "      <th>18502</th>\n",
       "      <td>4300864.female.26.Religion.Sagittarius.xml</td>\n",
       "      <td>application/octet-stream</td>\n",
       "      <td>binary</td>\n",
       "    </tr>\n",
       "    <tr>\n",
       "      <th>18865</th>\n",
       "      <td>536510.female.24.RealEstate.Capricorn.xml</td>\n",
       "      <td>application/octet-stream</td>\n",
       "      <td>binary</td>\n",
       "    </tr>\n",
       "    <tr>\n",
       "      <th>19049</th>\n",
       "      <td>741128.male.27.Consulting.Leo.xml</td>\n",
       "      <td>application/octet-stream</td>\n",
       "      <td>binary</td>\n",
       "    </tr>\n",
       "    <tr>\n",
       "      <th>19251</th>\n",
       "      <td>925742.male.16.Student.Gemini.xml</td>\n",
       "      <td>application/octet-stream</td>\n",
       "      <td>binary</td>\n",
       "    </tr>\n",
       "    <tr>\n",
       "      <th>19282</th>\n",
       "      <td>958176.male.17.Non-Profit.Gemini.xml</td>\n",
       "      <td>application/octet-stream</td>\n",
       "      <td>binary</td>\n",
       "    </tr>\n",
       "  </tbody>\n",
       "</table>\n",
       "<p>67 rows × 3 columns</p>\n",
       "</div>"
      ],
      "text/plain": [
       "                                         Filename                      Type  \\\n",
       "123           1107146.female.16.Student.Libra.xml  application/octet-stream   \n",
       "197             1169202.male.26.Science.Libra.xml  application/octet-stream   \n",
       "473             1395900.male.27.indUnk.Taurus.xml  application/octet-stream   \n",
       "514           1427070.female.25.indUnk.Gemini.xml  application/octet-stream   \n",
       "692             1583261.female.16.Arts.Gemini.xml  application/octet-stream   \n",
       "...                                           ...                       ...   \n",
       "18502  4300864.female.26.Religion.Sagittarius.xml  application/octet-stream   \n",
       "18865   536510.female.24.RealEstate.Capricorn.xml  application/octet-stream   \n",
       "19049           741128.male.27.Consulting.Leo.xml  application/octet-stream   \n",
       "19251           925742.male.16.Student.Gemini.xml  application/octet-stream   \n",
       "19282        958176.male.17.Non-Profit.Gemini.xml  application/octet-stream   \n",
       "\n",
       "      Encoding  \n",
       "123     binary  \n",
       "197     binary  \n",
       "473     binary  \n",
       "514     binary  \n",
       "692     binary  \n",
       "...        ...  \n",
       "18502   binary  \n",
       "18865   binary  \n",
       "19049   binary  \n",
       "19251   binary  \n",
       "19282   binary  \n",
       "\n",
       "[67 rows x 3 columns]"
      ]
     },
     "execution_count": 14,
     "metadata": {},
     "output_type": "execute_result"
    }
   ],
   "source": [
    "df[df['Type']=='application/octet-stream']"
   ]
  },
  {
   "cell_type": "markdown",
   "metadata": {},
   "source": [
    "## The above data shows us that all binary encoding files are basically of the type: application/octet-stream\n"
   ]
  },
  {
   "cell_type": "code",
   "execution_count": 15,
   "metadata": {},
   "outputs": [
    {
     "data": {
      "text/html": [
       "<div>\n",
       "<style scoped>\n",
       "    .dataframe tbody tr th:only-of-type {\n",
       "        vertical-align: middle;\n",
       "    }\n",
       "\n",
       "    .dataframe tbody tr th {\n",
       "        vertical-align: top;\n",
       "    }\n",
       "\n",
       "    .dataframe thead th {\n",
       "        text-align: right;\n",
       "    }\n",
       "</style>\n",
       "<table border=\"1\" class=\"dataframe\">\n",
       "  <thead>\n",
       "    <tr style=\"text-align: right;\">\n",
       "      <th></th>\n",
       "      <th>Filename</th>\n",
       "      <th>Type</th>\n",
       "      <th>Encoding</th>\n",
       "    </tr>\n",
       "  </thead>\n",
       "  <tbody>\n",
       "    <tr>\n",
       "      <th>31</th>\n",
       "      <td>1031806.male.17.Technology.Sagittarius.xml</td>\n",
       "      <td>text/x-c</td>\n",
       "      <td>unknown-8bit</td>\n",
       "    </tr>\n",
       "    <tr>\n",
       "      <th>266</th>\n",
       "      <td>1233897.male.17.Technology.Virgo.xml</td>\n",
       "      <td>text/x-c</td>\n",
       "      <td>unknown-8bit</td>\n",
       "    </tr>\n",
       "    <tr>\n",
       "      <th>1225</th>\n",
       "      <td>1956554.male.24.Technology.Pisces.xml</td>\n",
       "      <td>text/x-c</td>\n",
       "      <td>utf-8</td>\n",
       "    </tr>\n",
       "    <tr>\n",
       "      <th>3287</th>\n",
       "      <td>3197289.male.15.Student.Scorpio.xml</td>\n",
       "      <td>text/x-c</td>\n",
       "      <td>us-ascii</td>\n",
       "    </tr>\n",
       "    <tr>\n",
       "      <th>3327</th>\n",
       "      <td>3208819.male.23.Student.Aries.xml</td>\n",
       "      <td>text/x-c</td>\n",
       "      <td>utf-8</td>\n",
       "    </tr>\n",
       "    <tr>\n",
       "      <th>3864</th>\n",
       "      <td>3317054.male.27.Internet.Aquarius.xml</td>\n",
       "      <td>text/x-c</td>\n",
       "      <td>utf-8</td>\n",
       "    </tr>\n",
       "    <tr>\n",
       "      <th>4709</th>\n",
       "      <td>3374765.male.26.Engineering.Capricorn.xml</td>\n",
       "      <td>text/x-c</td>\n",
       "      <td>us-ascii</td>\n",
       "    </tr>\n",
       "    <tr>\n",
       "      <th>5386</th>\n",
       "      <td>3419733.male.27.Engineering.Pisces.xml</td>\n",
       "      <td>text/x-c</td>\n",
       "      <td>utf-8</td>\n",
       "    </tr>\n",
       "    <tr>\n",
       "      <th>7508</th>\n",
       "      <td>3554856.male.27.Technology.Scorpio.xml</td>\n",
       "      <td>text/x-c</td>\n",
       "      <td>us-ascii</td>\n",
       "    </tr>\n",
       "    <tr>\n",
       "      <th>8869</th>\n",
       "      <td>3648955.male.17.Student.Cancer.xml</td>\n",
       "      <td>text/x-c</td>\n",
       "      <td>utf-8</td>\n",
       "    </tr>\n",
       "    <tr>\n",
       "      <th>9275</th>\n",
       "      <td>3675358.male.26.Technology.Aquarius.xml</td>\n",
       "      <td>text/x-c</td>\n",
       "      <td>us-ascii</td>\n",
       "    </tr>\n",
       "    <tr>\n",
       "      <th>13091</th>\n",
       "      <td>3926121.male.25.Technology.Leo.xml</td>\n",
       "      <td>text/x-c</td>\n",
       "      <td>us-ascii</td>\n",
       "    </tr>\n",
       "    <tr>\n",
       "      <th>14404</th>\n",
       "      <td>4008254.male.27.Technology.Virgo.xml</td>\n",
       "      <td>text/x-c</td>\n",
       "      <td>us-ascii</td>\n",
       "    </tr>\n",
       "    <tr>\n",
       "      <th>19146</th>\n",
       "      <td>825029.female.17.Student.Aries.xml</td>\n",
       "      <td>text/x-c</td>\n",
       "      <td>unknown-8bit</td>\n",
       "    </tr>\n",
       "  </tbody>\n",
       "</table>\n",
       "</div>"
      ],
      "text/plain": [
       "                                         Filename      Type      Encoding\n",
       "31     1031806.male.17.Technology.Sagittarius.xml  text/x-c  unknown-8bit\n",
       "266          1233897.male.17.Technology.Virgo.xml  text/x-c  unknown-8bit\n",
       "1225        1956554.male.24.Technology.Pisces.xml  text/x-c         utf-8\n",
       "3287          3197289.male.15.Student.Scorpio.xml  text/x-c      us-ascii\n",
       "3327            3208819.male.23.Student.Aries.xml  text/x-c         utf-8\n",
       "3864        3317054.male.27.Internet.Aquarius.xml  text/x-c         utf-8\n",
       "4709    3374765.male.26.Engineering.Capricorn.xml  text/x-c      us-ascii\n",
       "5386       3419733.male.27.Engineering.Pisces.xml  text/x-c         utf-8\n",
       "7508       3554856.male.27.Technology.Scorpio.xml  text/x-c      us-ascii\n",
       "8869           3648955.male.17.Student.Cancer.xml  text/x-c         utf-8\n",
       "9275      3675358.male.26.Technology.Aquarius.xml  text/x-c      us-ascii\n",
       "13091          3926121.male.25.Technology.Leo.xml  text/x-c      us-ascii\n",
       "14404        4008254.male.27.Technology.Virgo.xml  text/x-c      us-ascii\n",
       "19146          825029.female.17.Student.Aries.xml  text/x-c  unknown-8bit"
      ]
     },
     "execution_count": 15,
     "metadata": {},
     "output_type": "execute_result"
    }
   ],
   "source": [
    "df[df['Type']=='text/x-c']"
   ]
  },
  {
   "cell_type": "markdown",
   "metadata": {},
   "source": [
    "## We can see from the above that type text/x-c supports utf-8"
   ]
  },
  {
   "cell_type": "markdown",
   "metadata": {},
   "source": [
    "### ----------------------------------------------------------------------------------------------------------------------------\n"
   ]
  },
  {
   "cell_type": "markdown",
   "metadata": {},
   "source": [
    "## Side Note: Since I had trouble opening the files with different encodings using xml.ElementTree I decided to process files separately according to their encoding type to make sure all the data gets correctly imported"
   ]
  },
  {
   "cell_type": "markdown",
   "metadata": {},
   "source": [
    "### ----------------------------------------------------------------------------------------------------------------------------\n"
   ]
  },
  {
   "cell_type": "markdown",
   "metadata": {},
   "source": [
    "# Process: Importing data from filetype and storing them as a dataframe csv file"
   ]
  },
  {
   "cell_type": "markdown",
   "metadata": {},
   "source": [
    "## 1. ASCII Filenames"
   ]
  },
  {
   "cell_type": "code",
   "execution_count": 16,
   "metadata": {},
   "outputs": [],
   "source": [
    "filenames_ascii = list(df[df['Encoding']=='us-ascii']['Filename'])"
   ]
  },
  {
   "cell_type": "code",
   "execution_count": 17,
   "metadata": {},
   "outputs": [
    {
     "data": {
      "text/plain": [
       "11802"
      ]
     },
     "execution_count": 17,
     "metadata": {},
     "output_type": "execute_result"
    }
   ],
   "source": [
    "len(filenames_ascii)"
   ]
  },
  {
   "cell_type": "code",
   "execution_count": 18,
   "metadata": {},
   "outputs": [],
   "source": [
    "os.chdir('/Users/deepakbuddha/Desktop/scoutbee_proj/blogs')"
   ]
  },
  {
   "cell_type": "code",
   "execution_count": 19,
   "metadata": {},
   "outputs": [],
   "source": [
    "xmldata_ascii = pd.DataFrame(columns='Id Date Post Gender Age Industry Astrosign'.split())"
   ]
  },
  {
   "cell_type": "code",
   "execution_count": 20,
   "metadata": {},
   "outputs": [
    {
     "data": {
      "text/html": [
       "<div>\n",
       "<style scoped>\n",
       "    .dataframe tbody tr th:only-of-type {\n",
       "        vertical-align: middle;\n",
       "    }\n",
       "\n",
       "    .dataframe tbody tr th {\n",
       "        vertical-align: top;\n",
       "    }\n",
       "\n",
       "    .dataframe thead th {\n",
       "        text-align: right;\n",
       "    }\n",
       "</style>\n",
       "<table border=\"1\" class=\"dataframe\">\n",
       "  <thead>\n",
       "    <tr style=\"text-align: right;\">\n",
       "      <th></th>\n",
       "      <th>Id</th>\n",
       "      <th>Date</th>\n",
       "      <th>Post</th>\n",
       "      <th>Gender</th>\n",
       "      <th>Age</th>\n",
       "      <th>Industry</th>\n",
       "      <th>Astrosign</th>\n",
       "    </tr>\n",
       "  </thead>\n",
       "  <tbody>\n",
       "  </tbody>\n",
       "</table>\n",
       "</div>"
      ],
      "text/plain": [
       "Empty DataFrame\n",
       "Columns: [Id, Date, Post, Gender, Age, Industry, Astrosign]\n",
       "Index: []"
      ]
     },
     "execution_count": 20,
     "metadata": {},
     "output_type": "execute_result"
    }
   ],
   "source": [
    "xmldata_ascii"
   ]
  },
  {
   "cell_type": "code",
   "execution_count": 21,
   "metadata": {},
   "outputs": [],
   "source": [
    "# Pattern format for the date column\n",
    "pattern = r\"\\d{2},\\w+,\\d{4}\""
   ]
  },
  {
   "cell_type": "code",
   "execution_count": 22,
   "metadata": {},
   "outputs": [
    {
     "name": "stderr",
     "output_type": "stream",
     "text": [
      "Progress: 100%|██████████| 11802/11802 [32:17<00:00,  6.09it/s] \n"
     ]
    }
   ],
   "source": [
    "for file in tqdm(filenames_ascii,desc='Progress'):\n",
    "    blog = ''\n",
    "    \n",
    "    #using errors = \"replace\" rather than \"surrogateescape\" as with \"replace\" we can export data into csv file\n",
    "    with open(file,errors=\"replace\") as f:\n",
    "        for line in f:\n",
    "            blog = blog + line\n",
    "    \n",
    "    #removing all the tags\n",
    "    tempdata = list(re.split('<Blog>|<date>|</date>|<post>|</post>|</Blog>',blog))\n",
    "    \n",
    "    #loop to remove unwanted elements which just contain space characters (1 or more) from our list\n",
    "    blogdata = []\n",
    "    for ele in tempdata:\n",
    "        if ele.strip():\n",
    "            blogdata.append(ele)\n",
    "            \n",
    "     #getting the Id, Gender, Age, Profession and AstroSign of that particular blogger\n",
    "    userid = file.split('.')[0]\n",
    "    gender = file.split('.')[1]\n",
    "    age = file.split('.')[2]\n",
    "    field_of_work = file.split('.')[3]\n",
    "    ast_sign = file.split('.')[4]\n",
    "\n",
    "    i=0\n",
    "    for i in range(len(blogdata)):\n",
    "        # If our list element contains date format and has less than 20 characters\n",
    "        # We use less than 20 characters to make sure to omit considering date format from our blogposts\n",
    "        if ((len(blogdata[i])<20) and (len(re.findall(pattern,blogdata[i]))!=0)):\n",
    "            date = blogdata[i]\n",
    "        else:\n",
    "            post = blogdata[i]\n",
    "            \n",
    "            #Since a typical blog post consists of a pair of date and post, we append the values after getting our post\n",
    "            blog_dict ={'Id':userid,'Date':date, 'Post':post, 'Gender':gender,'Age':age,'Industry':field_of_work,'Astrosign':ast_sign}\n",
    "            xmldata_ascii = xmldata_ascii.append(blog_dict,ignore_index=True)"
   ]
  },
  {
   "cell_type": "code",
   "execution_count": 23,
   "metadata": {},
   "outputs": [
    {
     "data": {
      "text/html": [
       "<div>\n",
       "<style scoped>\n",
       "    .dataframe tbody tr th:only-of-type {\n",
       "        vertical-align: middle;\n",
       "    }\n",
       "\n",
       "    .dataframe tbody tr th {\n",
       "        vertical-align: top;\n",
       "    }\n",
       "\n",
       "    .dataframe thead th {\n",
       "        text-align: right;\n",
       "    }\n",
       "</style>\n",
       "<table border=\"1\" class=\"dataframe\">\n",
       "  <thead>\n",
       "    <tr style=\"text-align: right;\">\n",
       "      <th></th>\n",
       "      <th>Id</th>\n",
       "      <th>Date</th>\n",
       "      <th>Post</th>\n",
       "      <th>Gender</th>\n",
       "      <th>Age</th>\n",
       "      <th>Industry</th>\n",
       "      <th>Astrosign</th>\n",
       "    </tr>\n",
       "  </thead>\n",
       "  <tbody>\n",
       "    <tr>\n",
       "      <th>0</th>\n",
       "      <td>1000331</td>\n",
       "      <td>31,May,2004</td>\n",
       "      <td>\\n\\n\\t \\n      Well, everyone got up and going...</td>\n",
       "      <td>female</td>\n",
       "      <td>37</td>\n",
       "      <td>indUnk</td>\n",
       "      <td>Leo</td>\n",
       "    </tr>\n",
       "    <tr>\n",
       "      <th>1</th>\n",
       "      <td>1000331</td>\n",
       "      <td>29,May,2004</td>\n",
       "      <td>\\n\\n\\t \\n      My four-year old never stops ta...</td>\n",
       "      <td>female</td>\n",
       "      <td>37</td>\n",
       "      <td>indUnk</td>\n",
       "      <td>Leo</td>\n",
       "    </tr>\n",
       "    <tr>\n",
       "      <th>2</th>\n",
       "      <td>1000331</td>\n",
       "      <td>28,May,2004</td>\n",
       "      <td>\\n\\n\\t \\n      Actually it's not raining yet, ...</td>\n",
       "      <td>female</td>\n",
       "      <td>37</td>\n",
       "      <td>indUnk</td>\n",
       "      <td>Leo</td>\n",
       "    </tr>\n",
       "    <tr>\n",
       "      <th>3</th>\n",
       "      <td>1000331</td>\n",
       "      <td>28,May,2004</td>\n",
       "      <td>\\n\\n\\t \\n      Ha! Just set up my RSS feed - t...</td>\n",
       "      <td>female</td>\n",
       "      <td>37</td>\n",
       "      <td>indUnk</td>\n",
       "      <td>Leo</td>\n",
       "    </tr>\n",
       "    <tr>\n",
       "      <th>4</th>\n",
       "      <td>1000331</td>\n",
       "      <td>28,May,2004</td>\n",
       "      <td>\\n\\n\\t \\n      Oh, which just reminded me, we ...</td>\n",
       "      <td>female</td>\n",
       "      <td>37</td>\n",
       "      <td>indUnk</td>\n",
       "      <td>Leo</td>\n",
       "    </tr>\n",
       "    <tr>\n",
       "      <th>...</th>\n",
       "      <td>...</td>\n",
       "      <td>...</td>\n",
       "      <td>...</td>\n",
       "      <td>...</td>\n",
       "      <td>...</td>\n",
       "      <td>...</td>\n",
       "      <td>...</td>\n",
       "    </tr>\n",
       "    <tr>\n",
       "      <th>175686</th>\n",
       "      <td>998966</td>\n",
       "      <td>02,July,2004</td>\n",
       "      <td>\\n\\n\\n       \\n      Elijah and Amy&amp;nbsp; urlL...</td>\n",
       "      <td>male</td>\n",
       "      <td>27</td>\n",
       "      <td>indUnk</td>\n",
       "      <td>Taurus</td>\n",
       "    </tr>\n",
       "    <tr>\n",
       "      <th>175687</th>\n",
       "      <td>998966</td>\n",
       "      <td>02,July,2004</td>\n",
       "      <td>\\n\\n\\n       \\n      Amy with Elijah&amp;nbsp; url...</td>\n",
       "      <td>male</td>\n",
       "      <td>27</td>\n",
       "      <td>indUnk</td>\n",
       "      <td>Taurus</td>\n",
       "    </tr>\n",
       "    <tr>\n",
       "      <th>175688</th>\n",
       "      <td>998966</td>\n",
       "      <td>11,July,2004</td>\n",
       "      <td>\\n\\n\\n       \\n       urlLink    Can Buddha ge...</td>\n",
       "      <td>male</td>\n",
       "      <td>27</td>\n",
       "      <td>indUnk</td>\n",
       "      <td>Taurus</td>\n",
       "    </tr>\n",
       "    <tr>\n",
       "      <th>175689</th>\n",
       "      <td>998966</td>\n",
       "      <td>11,July,2004</td>\n",
       "      <td>\\n\\n\\n       \\n       urlLink    There she is ...</td>\n",
       "      <td>male</td>\n",
       "      <td>27</td>\n",
       "      <td>indUnk</td>\n",
       "      <td>Taurus</td>\n",
       "    </tr>\n",
       "    <tr>\n",
       "      <th>175690</th>\n",
       "      <td>998966</td>\n",
       "      <td>11,July,2004</td>\n",
       "      <td>\\n\\n\\n       \\n       urlLink    Awwww... isnt...</td>\n",
       "      <td>male</td>\n",
       "      <td>27</td>\n",
       "      <td>indUnk</td>\n",
       "      <td>Taurus</td>\n",
       "    </tr>\n",
       "  </tbody>\n",
       "</table>\n",
       "<p>175691 rows × 7 columns</p>\n",
       "</div>"
      ],
      "text/plain": [
       "             Id          Date  \\\n",
       "0       1000331   31,May,2004   \n",
       "1       1000331   29,May,2004   \n",
       "2       1000331   28,May,2004   \n",
       "3       1000331   28,May,2004   \n",
       "4       1000331   28,May,2004   \n",
       "...         ...           ...   \n",
       "175686   998966  02,July,2004   \n",
       "175687   998966  02,July,2004   \n",
       "175688   998966  11,July,2004   \n",
       "175689   998966  11,July,2004   \n",
       "175690   998966  11,July,2004   \n",
       "\n",
       "                                                     Post  Gender Age  \\\n",
       "0       \\n\\n\\t \\n      Well, everyone got up and going...  female  37   \n",
       "1       \\n\\n\\t \\n      My four-year old never stops ta...  female  37   \n",
       "2       \\n\\n\\t \\n      Actually it's not raining yet, ...  female  37   \n",
       "3       \\n\\n\\t \\n      Ha! Just set up my RSS feed - t...  female  37   \n",
       "4       \\n\\n\\t \\n      Oh, which just reminded me, we ...  female  37   \n",
       "...                                                   ...     ...  ..   \n",
       "175686  \\n\\n\\n       \\n      Elijah and Amy&nbsp; urlL...    male  27   \n",
       "175687  \\n\\n\\n       \\n      Amy with Elijah&nbsp; url...    male  27   \n",
       "175688  \\n\\n\\n       \\n       urlLink    Can Buddha ge...    male  27   \n",
       "175689  \\n\\n\\n       \\n       urlLink    There she is ...    male  27   \n",
       "175690  \\n\\n\\n       \\n       urlLink    Awwww... isnt...    male  27   \n",
       "\n",
       "       Industry Astrosign  \n",
       "0        indUnk       Leo  \n",
       "1        indUnk       Leo  \n",
       "2        indUnk       Leo  \n",
       "3        indUnk       Leo  \n",
       "4        indUnk       Leo  \n",
       "...         ...       ...  \n",
       "175686   indUnk    Taurus  \n",
       "175687   indUnk    Taurus  \n",
       "175688   indUnk    Taurus  \n",
       "175689   indUnk    Taurus  \n",
       "175690   indUnk    Taurus  \n",
       "\n",
       "[175691 rows x 7 columns]"
      ]
     },
     "execution_count": 23,
     "metadata": {},
     "output_type": "execute_result"
    }
   ],
   "source": [
    "xmldata_ascii"
   ]
  },
  {
   "cell_type": "code",
   "execution_count": 24,
   "metadata": {},
   "outputs": [],
   "source": [
    "xmldata_ascii.to_csv('../CSVData/ASCIIData.csv',index=False)"
   ]
  },
  {
   "cell_type": "markdown",
   "metadata": {},
   "source": [
    "### ----------------------------------------------------------------------------------------------------------------------------\n"
   ]
  },
  {
   "cell_type": "markdown",
   "metadata": {},
   "source": [
    "## 2. UTF8 Filenames"
   ]
  },
  {
   "cell_type": "code",
   "execution_count": 25,
   "metadata": {},
   "outputs": [],
   "source": [
    "filenames_utf8 = list(df[df['Encoding']=='utf-8']['Filename'])"
   ]
  },
  {
   "cell_type": "code",
   "execution_count": 26,
   "metadata": {},
   "outputs": [
    {
     "data": {
      "text/plain": [
       "6859"
      ]
     },
     "execution_count": 26,
     "metadata": {},
     "output_type": "execute_result"
    }
   ],
   "source": [
    "len(filenames_utf8)"
   ]
  },
  {
   "cell_type": "code",
   "execution_count": 27,
   "metadata": {},
   "outputs": [],
   "source": [
    "xmldata_utf8 = pd.DataFrame(columns='Id Date Post Gender Age Industry Astrosign'.split())"
   ]
  },
  {
   "cell_type": "code",
   "execution_count": 28,
   "metadata": {},
   "outputs": [
    {
     "data": {
      "text/html": [
       "<div>\n",
       "<style scoped>\n",
       "    .dataframe tbody tr th:only-of-type {\n",
       "        vertical-align: middle;\n",
       "    }\n",
       "\n",
       "    .dataframe tbody tr th {\n",
       "        vertical-align: top;\n",
       "    }\n",
       "\n",
       "    .dataframe thead th {\n",
       "        text-align: right;\n",
       "    }\n",
       "</style>\n",
       "<table border=\"1\" class=\"dataframe\">\n",
       "  <thead>\n",
       "    <tr style=\"text-align: right;\">\n",
       "      <th></th>\n",
       "      <th>Id</th>\n",
       "      <th>Date</th>\n",
       "      <th>Post</th>\n",
       "      <th>Gender</th>\n",
       "      <th>Age</th>\n",
       "      <th>Industry</th>\n",
       "      <th>Astrosign</th>\n",
       "    </tr>\n",
       "  </thead>\n",
       "  <tbody>\n",
       "  </tbody>\n",
       "</table>\n",
       "</div>"
      ],
      "text/plain": [
       "Empty DataFrame\n",
       "Columns: [Id, Date, Post, Gender, Age, Industry, Astrosign]\n",
       "Index: []"
      ]
     },
     "execution_count": 28,
     "metadata": {},
     "output_type": "execute_result"
    }
   ],
   "source": [
    "xmldata_utf8"
   ]
  },
  {
   "cell_type": "code",
   "execution_count": 29,
   "metadata": {},
   "outputs": [],
   "source": [
    "# Pattern format for the date column\n",
    "pattern = r\"\\d{2},\\w+,\\d{4}\""
   ]
  },
  {
   "cell_type": "code",
   "execution_count": 30,
   "metadata": {},
   "outputs": [
    {
     "name": "stderr",
     "output_type": "stream",
     "text": [
      "Progress: 100%|██████████| 6859/6859 [1:33:35<00:00,  1.22it/s]  \n"
     ]
    }
   ],
   "source": [
    "for file in tqdm(filenames_utf8,desc='Progress'):\n",
    "    blog = ''\n",
    "    \n",
    "    #using errors = \"replace\" rather than \"surrogateescape\" as with \"replace\" we can export data into csv file\n",
    "    with open(file,errors=\"replace\") as f:\n",
    "        for line in f:\n",
    "            blog = blog + line\n",
    "    \n",
    "    #removing all the tags\n",
    "    tempdata = list(re.split('<Blog>|<date>|</date>|<post>|</post>|</Blog>',blog))\n",
    "    \n",
    "    #loop to remove unwanted elements which just contain space characters (1 or more) from our list\n",
    "    blogdata = []\n",
    "    for ele in tempdata:\n",
    "        if ele.strip():\n",
    "            blogdata.append(ele)\n",
    "            \n",
    "    #getting the Id, Gender, Age, Profession and AstroSign of that particular blogger\n",
    "    userid = file.split('.')[0]\n",
    "    gender = file.split('.')[1]\n",
    "    age = file.split('.')[2]\n",
    "    field_of_work = file.split('.')[3]\n",
    "    ast_sign = file.split('.')[4]\n",
    "\n",
    "    i=0\n",
    "    for i in range(len(blogdata)):\n",
    "        # If our list element contains date format and has less than 20 characters\n",
    "        # We use less than 20 characters to make sure to omit considering date format from our blogposts\n",
    "        if ((len(blogdata[i])<20) and (len(re.findall(pattern,blogdata[i]))!=0)):\n",
    "            date = blogdata[i]\n",
    "        else:\n",
    "            post = blogdata[i]\n",
    "            \n",
    "            #Since a typical blog post consists of a pair of date and post, we append the values after getting our post\n",
    "            blog_dict ={'Id':userid,'Date':date, 'Post':post, 'Gender':gender,'Age':age,'Industry':field_of_work,'Astrosign':ast_sign}\n",
    "            xmldata_utf8 = xmldata_utf8.append(blog_dict,ignore_index=True)"
   ]
  },
  {
   "cell_type": "code",
   "execution_count": 31,
   "metadata": {},
   "outputs": [
    {
     "data": {
      "text/html": [
       "<div>\n",
       "<style scoped>\n",
       "    .dataframe tbody tr th:only-of-type {\n",
       "        vertical-align: middle;\n",
       "    }\n",
       "\n",
       "    .dataframe tbody tr th {\n",
       "        vertical-align: top;\n",
       "    }\n",
       "\n",
       "    .dataframe thead th {\n",
       "        text-align: right;\n",
       "    }\n",
       "</style>\n",
       "<table border=\"1\" class=\"dataframe\">\n",
       "  <thead>\n",
       "    <tr style=\"text-align: right;\">\n",
       "      <th></th>\n",
       "      <th>Id</th>\n",
       "      <th>Date</th>\n",
       "      <th>Post</th>\n",
       "      <th>Gender</th>\n",
       "      <th>Age</th>\n",
       "      <th>Industry</th>\n",
       "      <th>Astrosign</th>\n",
       "    </tr>\n",
       "  </thead>\n",
       "  <tbody>\n",
       "    <tr>\n",
       "      <th>0</th>\n",
       "      <td>1005545</td>\n",
       "      <td>05,July,2003</td>\n",
       "      <td>\\n\\n\\t \\n       B-Logs: The Business Blogs Par...</td>\n",
       "      <td>male</td>\n",
       "      <td>25</td>\n",
       "      <td>Engineering</td>\n",
       "      <td>Sagittarius</td>\n",
       "    </tr>\n",
       "    <tr>\n",
       "      <th>1</th>\n",
       "      <td>1005545</td>\n",
       "      <td>04,July,2003</td>\n",
       "      <td>\\n\\n\\t \\n       Bohemian Rhapsody : Is it??   ...</td>\n",
       "      <td>male</td>\n",
       "      <td>25</td>\n",
       "      <td>Engineering</td>\n",
       "      <td>Sagittarius</td>\n",
       "    </tr>\n",
       "    <tr>\n",
       "      <th>2</th>\n",
       "      <td>1005545</td>\n",
       "      <td>03,July,2003</td>\n",
       "      <td>\\n\\n\\t \\n       Entrepreneur Guidelines    url...</td>\n",
       "      <td>male</td>\n",
       "      <td>25</td>\n",
       "      <td>Engineering</td>\n",
       "      <td>Sagittarius</td>\n",
       "    </tr>\n",
       "    <tr>\n",
       "      <th>3</th>\n",
       "      <td>1005545</td>\n",
       "      <td>02,July,2003</td>\n",
       "      <td>\\n\\n\\t \\n       Business Profiles of Some Comp...</td>\n",
       "      <td>male</td>\n",
       "      <td>25</td>\n",
       "      <td>Engineering</td>\n",
       "      <td>Sagittarius</td>\n",
       "    </tr>\n",
       "    <tr>\n",
       "      <th>4</th>\n",
       "      <td>1005545</td>\n",
       "      <td>02,July,2003</td>\n",
       "      <td>\\n\\n\\t \\n       Multiple Interviews for One Jo...</td>\n",
       "      <td>male</td>\n",
       "      <td>25</td>\n",
       "      <td>Engineering</td>\n",
       "      <td>Sagittarius</td>\n",
       "    </tr>\n",
       "    <tr>\n",
       "      <th>...</th>\n",
       "      <td>...</td>\n",
       "      <td>...</td>\n",
       "      <td>...</td>\n",
       "      <td>...</td>\n",
       "      <td>...</td>\n",
       "      <td>...</td>\n",
       "      <td>...</td>\n",
       "    </tr>\n",
       "    <tr>\n",
       "      <th>327659</th>\n",
       "      <td>999503</td>\n",
       "      <td>04,July,2004</td>\n",
       "      <td>\\n\\n\\n       \\n      Today we celebrate our in...</td>\n",
       "      <td>male</td>\n",
       "      <td>25</td>\n",
       "      <td>Internet</td>\n",
       "      <td>Cancer</td>\n",
       "    </tr>\n",
       "    <tr>\n",
       "      <th>327660</th>\n",
       "      <td>999503</td>\n",
       "      <td>03,July,2004</td>\n",
       "      <td>\\n\\n\\n       \\n      Ugh, I think I have aller...</td>\n",
       "      <td>male</td>\n",
       "      <td>25</td>\n",
       "      <td>Internet</td>\n",
       "      <td>Cancer</td>\n",
       "    </tr>\n",
       "    <tr>\n",
       "      <th>327661</th>\n",
       "      <td>999503</td>\n",
       "      <td>02,July,2004</td>\n",
       "      <td>\\n\\n\\n       \\n      \"Science is like sex; occ...</td>\n",
       "      <td>male</td>\n",
       "      <td>25</td>\n",
       "      <td>Internet</td>\n",
       "      <td>Cancer</td>\n",
       "    </tr>\n",
       "    <tr>\n",
       "      <th>327662</th>\n",
       "      <td>999503</td>\n",
       "      <td>01,July,2004</td>\n",
       "      <td>\\n\\n\\n       \\n       urlLink Dog toy or marit...</td>\n",
       "      <td>male</td>\n",
       "      <td>25</td>\n",
       "      <td>Internet</td>\n",
       "      <td>Cancer</td>\n",
       "    </tr>\n",
       "    <tr>\n",
       "      <th>327663</th>\n",
       "      <td>999503</td>\n",
       "      <td>01,July,2004</td>\n",
       "      <td>\\n\\n\\n       \\n      I had a dream last night ...</td>\n",
       "      <td>male</td>\n",
       "      <td>25</td>\n",
       "      <td>Internet</td>\n",
       "      <td>Cancer</td>\n",
       "    </tr>\n",
       "  </tbody>\n",
       "</table>\n",
       "<p>327664 rows × 7 columns</p>\n",
       "</div>"
      ],
      "text/plain": [
       "             Id          Date  \\\n",
       "0       1005545  05,July,2003   \n",
       "1       1005545  04,July,2003   \n",
       "2       1005545  03,July,2003   \n",
       "3       1005545  02,July,2003   \n",
       "4       1005545  02,July,2003   \n",
       "...         ...           ...   \n",
       "327659   999503  04,July,2004   \n",
       "327660   999503  03,July,2004   \n",
       "327661   999503  02,July,2004   \n",
       "327662   999503  01,July,2004   \n",
       "327663   999503  01,July,2004   \n",
       "\n",
       "                                                     Post Gender Age  \\\n",
       "0       \\n\\n\\t \\n       B-Logs: The Business Blogs Par...   male  25   \n",
       "1       \\n\\n\\t \\n       Bohemian Rhapsody : Is it??   ...   male  25   \n",
       "2       \\n\\n\\t \\n       Entrepreneur Guidelines    url...   male  25   \n",
       "3       \\n\\n\\t \\n       Business Profiles of Some Comp...   male  25   \n",
       "4       \\n\\n\\t \\n       Multiple Interviews for One Jo...   male  25   \n",
       "...                                                   ...    ...  ..   \n",
       "327659  \\n\\n\\n       \\n      Today we celebrate our in...   male  25   \n",
       "327660  \\n\\n\\n       \\n      Ugh, I think I have aller...   male  25   \n",
       "327661  \\n\\n\\n       \\n      \"Science is like sex; occ...   male  25   \n",
       "327662  \\n\\n\\n       \\n       urlLink Dog toy or marit...   male  25   \n",
       "327663  \\n\\n\\n       \\n      I had a dream last night ...   male  25   \n",
       "\n",
       "           Industry    Astrosign  \n",
       "0       Engineering  Sagittarius  \n",
       "1       Engineering  Sagittarius  \n",
       "2       Engineering  Sagittarius  \n",
       "3       Engineering  Sagittarius  \n",
       "4       Engineering  Sagittarius  \n",
       "...             ...          ...  \n",
       "327659     Internet       Cancer  \n",
       "327660     Internet       Cancer  \n",
       "327661     Internet       Cancer  \n",
       "327662     Internet       Cancer  \n",
       "327663     Internet       Cancer  \n",
       "\n",
       "[327664 rows x 7 columns]"
      ]
     },
     "execution_count": 31,
     "metadata": {},
     "output_type": "execute_result"
    }
   ],
   "source": [
    "xmldata_utf8"
   ]
  },
  {
   "cell_type": "code",
   "execution_count": 32,
   "metadata": {},
   "outputs": [
    {
     "data": {
      "text/plain": [
       "6859"
      ]
     },
     "execution_count": 32,
     "metadata": {},
     "output_type": "execute_result"
    }
   ],
   "source": [
    "xmldata_utf8['Id'].nunique()"
   ]
  },
  {
   "cell_type": "code",
   "execution_count": 33,
   "metadata": {},
   "outputs": [],
   "source": [
    "xmldata_utf8.to_csv('../CSVData/UTF8Data.csv',index=False)"
   ]
  },
  {
   "cell_type": "markdown",
   "metadata": {},
   "source": [
    "### ----------------------------------------------------------------------------------------------------------------------------\n"
   ]
  },
  {
   "cell_type": "markdown",
   "metadata": {},
   "source": [
    "##  3. iso-8859-1 Filenames"
   ]
  },
  {
   "cell_type": "code",
   "execution_count": 34,
   "metadata": {},
   "outputs": [],
   "source": [
    "filenames_iso = list(df[df['Encoding']=='iso-8859-1']['Filename'])"
   ]
  },
  {
   "cell_type": "code",
   "execution_count": 35,
   "metadata": {},
   "outputs": [
    {
     "data": {
      "text/plain": [
       "95"
      ]
     },
     "execution_count": 35,
     "metadata": {},
     "output_type": "execute_result"
    }
   ],
   "source": [
    "len(filenames_iso)"
   ]
  },
  {
   "cell_type": "code",
   "execution_count": 36,
   "metadata": {},
   "outputs": [],
   "source": [
    "xmldata_iso = pd.DataFrame(columns='Id Date Post Gender Age Industry Astrosign'.split())"
   ]
  },
  {
   "cell_type": "code",
   "execution_count": 37,
   "metadata": {},
   "outputs": [
    {
     "data": {
      "text/html": [
       "<div>\n",
       "<style scoped>\n",
       "    .dataframe tbody tr th:only-of-type {\n",
       "        vertical-align: middle;\n",
       "    }\n",
       "\n",
       "    .dataframe tbody tr th {\n",
       "        vertical-align: top;\n",
       "    }\n",
       "\n",
       "    .dataframe thead th {\n",
       "        text-align: right;\n",
       "    }\n",
       "</style>\n",
       "<table border=\"1\" class=\"dataframe\">\n",
       "  <thead>\n",
       "    <tr style=\"text-align: right;\">\n",
       "      <th></th>\n",
       "      <th>Id</th>\n",
       "      <th>Date</th>\n",
       "      <th>Post</th>\n",
       "      <th>Gender</th>\n",
       "      <th>Age</th>\n",
       "      <th>Industry</th>\n",
       "      <th>Astrosign</th>\n",
       "    </tr>\n",
       "  </thead>\n",
       "  <tbody>\n",
       "  </tbody>\n",
       "</table>\n",
       "</div>"
      ],
      "text/plain": [
       "Empty DataFrame\n",
       "Columns: [Id, Date, Post, Gender, Age, Industry, Astrosign]\n",
       "Index: []"
      ]
     },
     "execution_count": 37,
     "metadata": {},
     "output_type": "execute_result"
    }
   ],
   "source": [
    "xmldata_iso"
   ]
  },
  {
   "cell_type": "code",
   "execution_count": 38,
   "metadata": {},
   "outputs": [],
   "source": [
    "pattern = r\"\\d{2},\\w+,\\d{4}\""
   ]
  },
  {
   "cell_type": "code",
   "execution_count": 39,
   "metadata": {},
   "outputs": [
    {
     "name": "stderr",
     "output_type": "stream",
     "text": [
      "Progress: 100%|██████████| 95/95 [00:20<00:00,  4.72it/s]\n"
     ]
    }
   ],
   "source": [
    "for file in tqdm(filenames_iso,desc='Progress'):\n",
    "    blog = ''\n",
    "    with open(file,errors=\"replace\") as f:\n",
    "        for line in f:\n",
    "            blog = blog + line\n",
    "    \n",
    "    tempdata = list(re.split('<Blog>|<date>|</date>|<post>|</post>|</Blog>',blog))\n",
    "    \n",
    "    blogdata = []\n",
    "    for ele in tempdata:\n",
    "        if ele.strip():\n",
    "            blogdata.append(ele)\n",
    "            \n",
    "    userid = file.split('.')[0]\n",
    "    gender = file.split('.')[1]\n",
    "    age = file.split('.')[2]\n",
    "    field_of_work = file.split('.')[3]\n",
    "    ast_sign = file.split('.')[4]\n",
    "\n",
    "    i=0\n",
    "    for i in range(len(blogdata)):\n",
    "        if ((len(blogdata[i])<20) and (len(re.findall(pattern,blogdata[i]))!=0)):\n",
    "            date = blogdata[i]\n",
    "        else:\n",
    "            post = blogdata[i]\n",
    "            blog_dict ={'Id':userid,'Date':date, 'Post':post, 'Gender':gender,'Age':age,'Industry':field_of_work,'Astrosign':ast_sign}\n",
    "            xmldata_iso = xmldata_iso.append(blog_dict,ignore_index=True)"
   ]
  },
  {
   "cell_type": "code",
   "execution_count": 40,
   "metadata": {},
   "outputs": [
    {
     "data": {
      "text/html": [
       "<div>\n",
       "<style scoped>\n",
       "    .dataframe tbody tr th:only-of-type {\n",
       "        vertical-align: middle;\n",
       "    }\n",
       "\n",
       "    .dataframe tbody tr th {\n",
       "        vertical-align: top;\n",
       "    }\n",
       "\n",
       "    .dataframe thead th {\n",
       "        text-align: right;\n",
       "    }\n",
       "</style>\n",
       "<table border=\"1\" class=\"dataframe\">\n",
       "  <thead>\n",
       "    <tr style=\"text-align: right;\">\n",
       "      <th></th>\n",
       "      <th>Id</th>\n",
       "      <th>Date</th>\n",
       "      <th>Post</th>\n",
       "      <th>Gender</th>\n",
       "      <th>Age</th>\n",
       "      <th>Industry</th>\n",
       "      <th>Astrosign</th>\n",
       "    </tr>\n",
       "  </thead>\n",
       "  <tbody>\n",
       "    <tr>\n",
       "      <th>0</th>\n",
       "      <td>1004904</td>\n",
       "      <td>19,June,2004</td>\n",
       "      <td>\\n\\n\\t \\n      cupid,please hear my cry, cupid...</td>\n",
       "      <td>male</td>\n",
       "      <td>23</td>\n",
       "      <td>Arts</td>\n",
       "      <td>Capricorn</td>\n",
       "    </tr>\n",
       "    <tr>\n",
       "      <th>1</th>\n",
       "      <td>1004904</td>\n",
       "      <td>19,June,2004</td>\n",
       "      <td>\\n\\n\\t \\n      Ijust got back from LA. I neede...</td>\n",
       "      <td>male</td>\n",
       "      <td>23</td>\n",
       "      <td>Arts</td>\n",
       "      <td>Capricorn</td>\n",
       "    </tr>\n",
       "    <tr>\n",
       "      <th>2</th>\n",
       "      <td>1004904</td>\n",
       "      <td>19,June,2004</td>\n",
       "      <td>\\n\\n\\t \\n      Yesterday thousands of demonstr...</td>\n",
       "      <td>male</td>\n",
       "      <td>23</td>\n",
       "      <td>Arts</td>\n",
       "      <td>Capricorn</td>\n",
       "    </tr>\n",
       "    <tr>\n",
       "      <th>3</th>\n",
       "      <td>1004904</td>\n",
       "      <td>19,June,2004</td>\n",
       "      <td>\\n\\n\\t \\n        Robert de Niro  You are like ...</td>\n",
       "      <td>male</td>\n",
       "      <td>23</td>\n",
       "      <td>Arts</td>\n",
       "      <td>Capricorn</td>\n",
       "    </tr>\n",
       "    <tr>\n",
       "      <th>4</th>\n",
       "      <td>1004904</td>\n",
       "      <td>19,June,2004</td>\n",
       "      <td>\\n\\n\\t \\n      We're sitting at a little round...</td>\n",
       "      <td>male</td>\n",
       "      <td>23</td>\n",
       "      <td>Arts</td>\n",
       "      <td>Capricorn</td>\n",
       "    </tr>\n",
       "    <tr>\n",
       "      <th>...</th>\n",
       "      <td>...</td>\n",
       "      <td>...</td>\n",
       "      <td>...</td>\n",
       "      <td>...</td>\n",
       "      <td>...</td>\n",
       "      <td>...</td>\n",
       "      <td>...</td>\n",
       "    </tr>\n",
       "    <tr>\n",
       "      <th>9046</th>\n",
       "      <td>963380</td>\n",
       "      <td>04,July,2004</td>\n",
       "      <td>\\n\\n\\t \\n      I was pretty close to right on ...</td>\n",
       "      <td>male</td>\n",
       "      <td>24</td>\n",
       "      <td>Student</td>\n",
       "      <td>Cancer</td>\n",
       "    </tr>\n",
       "    <tr>\n",
       "      <th>9047</th>\n",
       "      <td>963380</td>\n",
       "      <td>04,July,2004</td>\n",
       "      <td>\\n\\n\\t \\n      On the way home tonight I happe...</td>\n",
       "      <td>male</td>\n",
       "      <td>24</td>\n",
       "      <td>Student</td>\n",
       "      <td>Cancer</td>\n",
       "    </tr>\n",
       "    <tr>\n",
       "      <th>9048</th>\n",
       "      <td>963380</td>\n",
       "      <td>03,July,2004</td>\n",
       "      <td>\\n\\n\\t \\n      Some things I didn't touch on. ...</td>\n",
       "      <td>male</td>\n",
       "      <td>24</td>\n",
       "      <td>Student</td>\n",
       "      <td>Cancer</td>\n",
       "    </tr>\n",
       "    <tr>\n",
       "      <th>9049</th>\n",
       "      <td>963380</td>\n",
       "      <td>03,July,2004</td>\n",
       "      <td>\\n\\n\\t \\n      It's been an interesting week. ...</td>\n",
       "      <td>male</td>\n",
       "      <td>24</td>\n",
       "      <td>Student</td>\n",
       "      <td>Cancer</td>\n",
       "    </tr>\n",
       "    <tr>\n",
       "      <th>9050</th>\n",
       "      <td>963380</td>\n",
       "      <td>03,August,2004</td>\n",
       "      <td>\\n\\n\\t \\n      Alright, here's the breakdown a...</td>\n",
       "      <td>male</td>\n",
       "      <td>24</td>\n",
       "      <td>Student</td>\n",
       "      <td>Cancer</td>\n",
       "    </tr>\n",
       "  </tbody>\n",
       "</table>\n",
       "<p>9051 rows × 7 columns</p>\n",
       "</div>"
      ],
      "text/plain": [
       "           Id            Date  \\\n",
       "0     1004904    19,June,2004   \n",
       "1     1004904    19,June,2004   \n",
       "2     1004904    19,June,2004   \n",
       "3     1004904    19,June,2004   \n",
       "4     1004904    19,June,2004   \n",
       "...       ...             ...   \n",
       "9046   963380    04,July,2004   \n",
       "9047   963380    04,July,2004   \n",
       "9048   963380    03,July,2004   \n",
       "9049   963380    03,July,2004   \n",
       "9050   963380  03,August,2004   \n",
       "\n",
       "                                                   Post Gender Age Industry  \\\n",
       "0     \\n\\n\\t \\n      cupid,please hear my cry, cupid...   male  23     Arts   \n",
       "1     \\n\\n\\t \\n      Ijust got back from LA. I neede...   male  23     Arts   \n",
       "2     \\n\\n\\t \\n      Yesterday thousands of demonstr...   male  23     Arts   \n",
       "3     \\n\\n\\t \\n        Robert de Niro  You are like ...   male  23     Arts   \n",
       "4     \\n\\n\\t \\n      We're sitting at a little round...   male  23     Arts   \n",
       "...                                                 ...    ...  ..      ...   \n",
       "9046  \\n\\n\\t \\n      I was pretty close to right on ...   male  24  Student   \n",
       "9047  \\n\\n\\t \\n      On the way home tonight I happe...   male  24  Student   \n",
       "9048  \\n\\n\\t \\n      Some things I didn't touch on. ...   male  24  Student   \n",
       "9049  \\n\\n\\t \\n      It's been an interesting week. ...   male  24  Student   \n",
       "9050  \\n\\n\\t \\n      Alright, here's the breakdown a...   male  24  Student   \n",
       "\n",
       "      Astrosign  \n",
       "0     Capricorn  \n",
       "1     Capricorn  \n",
       "2     Capricorn  \n",
       "3     Capricorn  \n",
       "4     Capricorn  \n",
       "...         ...  \n",
       "9046     Cancer  \n",
       "9047     Cancer  \n",
       "9048     Cancer  \n",
       "9049     Cancer  \n",
       "9050     Cancer  \n",
       "\n",
       "[9051 rows x 7 columns]"
      ]
     },
     "execution_count": 40,
     "metadata": {},
     "output_type": "execute_result"
    }
   ],
   "source": [
    "xmldata_iso"
   ]
  },
  {
   "cell_type": "code",
   "execution_count": 41,
   "metadata": {},
   "outputs": [
    {
     "data": {
      "text/plain": [
       "95"
      ]
     },
     "execution_count": 41,
     "metadata": {},
     "output_type": "execute_result"
    }
   ],
   "source": [
    "xmldata_iso['Id'].nunique()"
   ]
  },
  {
   "cell_type": "code",
   "execution_count": 42,
   "metadata": {},
   "outputs": [],
   "source": [
    "xmldata_iso.to_csv('../CSVData/ISOData.csv',index=False)"
   ]
  },
  {
   "cell_type": "markdown",
   "metadata": {},
   "source": [
    "### ----------------------------------------------------------------------------------------------------------------------------\n"
   ]
  },
  {
   "cell_type": "markdown",
   "metadata": {},
   "source": [
    "## 4.  binary  Filenames"
   ]
  },
  {
   "cell_type": "code",
   "execution_count": 43,
   "metadata": {},
   "outputs": [],
   "source": [
    "filenames_bin = list(df[df['Encoding']=='binary']['Filename'])"
   ]
  },
  {
   "cell_type": "code",
   "execution_count": 44,
   "metadata": {},
   "outputs": [
    {
     "data": {
      "text/plain": [
       "67"
      ]
     },
     "execution_count": 44,
     "metadata": {},
     "output_type": "execute_result"
    }
   ],
   "source": [
    "len(filenames_bin)"
   ]
  },
  {
   "cell_type": "code",
   "execution_count": 45,
   "metadata": {},
   "outputs": [],
   "source": [
    "xmldata_bin = pd.DataFrame(columns='Id Date Post Gender Age Industry Astrosign'.split())"
   ]
  },
  {
   "cell_type": "code",
   "execution_count": 46,
   "metadata": {},
   "outputs": [
    {
     "data": {
      "text/html": [
       "<div>\n",
       "<style scoped>\n",
       "    .dataframe tbody tr th:only-of-type {\n",
       "        vertical-align: middle;\n",
       "    }\n",
       "\n",
       "    .dataframe tbody tr th {\n",
       "        vertical-align: top;\n",
       "    }\n",
       "\n",
       "    .dataframe thead th {\n",
       "        text-align: right;\n",
       "    }\n",
       "</style>\n",
       "<table border=\"1\" class=\"dataframe\">\n",
       "  <thead>\n",
       "    <tr style=\"text-align: right;\">\n",
       "      <th></th>\n",
       "      <th>Id</th>\n",
       "      <th>Date</th>\n",
       "      <th>Post</th>\n",
       "      <th>Gender</th>\n",
       "      <th>Age</th>\n",
       "      <th>Industry</th>\n",
       "      <th>Astrosign</th>\n",
       "    </tr>\n",
       "  </thead>\n",
       "  <tbody>\n",
       "  </tbody>\n",
       "</table>\n",
       "</div>"
      ],
      "text/plain": [
       "Empty DataFrame\n",
       "Columns: [Id, Date, Post, Gender, Age, Industry, Astrosign]\n",
       "Index: []"
      ]
     },
     "execution_count": 46,
     "metadata": {},
     "output_type": "execute_result"
    }
   ],
   "source": [
    "xmldata_bin"
   ]
  },
  {
   "cell_type": "code",
   "execution_count": 47,
   "metadata": {},
   "outputs": [],
   "source": [
    "pattern = r\"\\d{2},\\w+,\\d{4}\""
   ]
  },
  {
   "cell_type": "code",
   "execution_count": 48,
   "metadata": {},
   "outputs": [
    {
     "name": "stderr",
     "output_type": "stream",
     "text": [
      "Progress: 100%|██████████| 67/67 [00:29<00:00,  2.31it/s]\n"
     ]
    }
   ],
   "source": [
    "for file in tqdm(filenames_bin,desc='Progress'):\n",
    "    blog = ''\n",
    "    with open(file,errors=\"replace\") as f:\n",
    "        for line in f:\n",
    "            blog = blog + line\n",
    "    \n",
    "    tempdata = list(re.split('<Blog>|<date>|</date>|<post>|</post>|</Blog>',blog))\n",
    "    \n",
    "    blogdata = []\n",
    "    for ele in tempdata:\n",
    "        if ele.strip():\n",
    "            blogdata.append(ele)\n",
    "            \n",
    "    userid = file.split('.')[0]\n",
    "    gender = file.split('.')[1]\n",
    "    age = file.split('.')[2]\n",
    "    field_of_work = file.split('.')[3]\n",
    "    ast_sign = file.split('.')[4]\n",
    "\n",
    "    i=0\n",
    "    for i in range(len(blogdata)):\n",
    "        if ((len(blogdata[i])<20) and (len(re.findall(pattern,blogdata[i]))!=0)):\n",
    "            date = blogdata[i]\n",
    "        else:\n",
    "            post = blogdata[i]\n",
    "            blog_dict ={'Id':userid,'Date':date, 'Post':post, 'Gender':gender,'Age':age,'Industry':field_of_work,'Astrosign':ast_sign}\n",
    "            xmldata_bin = xmldata_bin.append(blog_dict,ignore_index=True)"
   ]
  },
  {
   "cell_type": "code",
   "execution_count": 49,
   "metadata": {},
   "outputs": [
    {
     "data": {
      "text/html": [
       "<div>\n",
       "<style scoped>\n",
       "    .dataframe tbody tr th:only-of-type {\n",
       "        vertical-align: middle;\n",
       "    }\n",
       "\n",
       "    .dataframe tbody tr th {\n",
       "        vertical-align: top;\n",
       "    }\n",
       "\n",
       "    .dataframe thead th {\n",
       "        text-align: right;\n",
       "    }\n",
       "</style>\n",
       "<table border=\"1\" class=\"dataframe\">\n",
       "  <thead>\n",
       "    <tr style=\"text-align: right;\">\n",
       "      <th></th>\n",
       "      <th>Id</th>\n",
       "      <th>Date</th>\n",
       "      <th>Post</th>\n",
       "      <th>Gender</th>\n",
       "      <th>Age</th>\n",
       "      <th>Industry</th>\n",
       "      <th>Astrosign</th>\n",
       "    </tr>\n",
       "  </thead>\n",
       "  <tbody>\n",
       "    <tr>\n",
       "      <th>0</th>\n",
       "      <td>1107146</td>\n",
       "      <td>02,July,2004</td>\n",
       "      <td>\\n\\n\\t \\n      Lindsey, We're 14, not thirteen...</td>\n",
       "      <td>female</td>\n",
       "      <td>16</td>\n",
       "      <td>Student</td>\n",
       "      <td>Libra</td>\n",
       "    </tr>\n",
       "    <tr>\n",
       "      <th>1</th>\n",
       "      <td>1107146</td>\n",
       "      <td>02,July,2004</td>\n",
       "      <td>\\n\\n\\t \\n      Joah. god I hate you.\\n    \\n</td>\n",
       "      <td>female</td>\n",
       "      <td>16</td>\n",
       "      <td>Student</td>\n",
       "      <td>Libra</td>\n",
       "    </tr>\n",
       "    <tr>\n",
       "      <th>2</th>\n",
       "      <td>1107146</td>\n",
       "      <td>02,July,2004</td>\n",
       "      <td>\\n\\n\\t \\n      Just for the record... Rosie no...</td>\n",
       "      <td>female</td>\n",
       "      <td>16</td>\n",
       "      <td>Student</td>\n",
       "      <td>Libra</td>\n",
       "    </tr>\n",
       "    <tr>\n",
       "      <th>3</th>\n",
       "      <td>1107146</td>\n",
       "      <td>02,July,2004</td>\n",
       "      <td>\\n\\n\\t \\n      *laughs Insanely* JOSH!! YOU HA...</td>\n",
       "      <td>female</td>\n",
       "      <td>16</td>\n",
       "      <td>Student</td>\n",
       "      <td>Libra</td>\n",
       "    </tr>\n",
       "    <tr>\n",
       "      <th>4</th>\n",
       "      <td>1107146</td>\n",
       "      <td>02,July,2004</td>\n",
       "      <td>\\n\\n\\t \\n      Ok, some ground rules...  Any o...</td>\n",
       "      <td>female</td>\n",
       "      <td>16</td>\n",
       "      <td>Student</td>\n",
       "      <td>Libra</td>\n",
       "    </tr>\n",
       "    <tr>\n",
       "      <th>...</th>\n",
       "      <td>...</td>\n",
       "      <td>...</td>\n",
       "      <td>...</td>\n",
       "      <td>...</td>\n",
       "      <td>...</td>\n",
       "      <td>...</td>\n",
       "      <td>...</td>\n",
       "    </tr>\n",
       "    <tr>\n",
       "      <th>12638</th>\n",
       "      <td>958176</td>\n",
       "      <td>01,August,2004</td>\n",
       "      <td>\\n\\n    \\n       \\n      well here you go;  so...</td>\n",
       "      <td>male</td>\n",
       "      <td>17</td>\n",
       "      <td>Non-Profit</td>\n",
       "      <td>Gemini</td>\n",
       "    </tr>\n",
       "    <tr>\n",
       "      <th>12639</th>\n",
       "      <td>958176</td>\n",
       "      <td>01,August,2004</td>\n",
       "      <td>\\n\\n    \\n       \\n      Ok, seriously people,...</td>\n",
       "      <td>male</td>\n",
       "      <td>17</td>\n",
       "      <td>Non-Profit</td>\n",
       "      <td>Gemini</td>\n",
       "    </tr>\n",
       "    <tr>\n",
       "      <th>12640</th>\n",
       "      <td>958176</td>\n",
       "      <td>11,August,2004</td>\n",
       "      <td>\\n\\n    \\n       \\n      Hhahahahahaha, I laug...</td>\n",
       "      <td>male</td>\n",
       "      <td>17</td>\n",
       "      <td>Non-Profit</td>\n",
       "      <td>Gemini</td>\n",
       "    </tr>\n",
       "    <tr>\n",
       "      <th>12641</th>\n",
       "      <td>958176</td>\n",
       "      <td>10,August,2004</td>\n",
       "      <td>\\n\\n    \\n       \\n      Ok, this is my 4th po...</td>\n",
       "      <td>male</td>\n",
       "      <td>17</td>\n",
       "      <td>Non-Profit</td>\n",
       "      <td>Gemini</td>\n",
       "    </tr>\n",
       "    <tr>\n",
       "      <th>12642</th>\n",
       "      <td>958176</td>\n",
       "      <td>10,August,2004</td>\n",
       "      <td>\\n\\n    \\n       \\n      Rosie, did you delete...</td>\n",
       "      <td>male</td>\n",
       "      <td>17</td>\n",
       "      <td>Non-Profit</td>\n",
       "      <td>Gemini</td>\n",
       "    </tr>\n",
       "  </tbody>\n",
       "</table>\n",
       "<p>12643 rows × 7 columns</p>\n",
       "</div>"
      ],
      "text/plain": [
       "            Id            Date  \\\n",
       "0      1107146    02,July,2004   \n",
       "1      1107146    02,July,2004   \n",
       "2      1107146    02,July,2004   \n",
       "3      1107146    02,July,2004   \n",
       "4      1107146    02,July,2004   \n",
       "...        ...             ...   \n",
       "12638   958176  01,August,2004   \n",
       "12639   958176  01,August,2004   \n",
       "12640   958176  11,August,2004   \n",
       "12641   958176  10,August,2004   \n",
       "12642   958176  10,August,2004   \n",
       "\n",
       "                                                    Post  Gender Age  \\\n",
       "0      \\n\\n\\t \\n      Lindsey, We're 14, not thirteen...  female  16   \n",
       "1           \\n\\n\\t \\n      Joah. god I hate you.\\n    \\n  female  16   \n",
       "2      \\n\\n\\t \\n      Just for the record... Rosie no...  female  16   \n",
       "3      \\n\\n\\t \\n      *laughs Insanely* JOSH!! YOU HA...  female  16   \n",
       "4      \\n\\n\\t \\n      Ok, some ground rules...  Any o...  female  16   \n",
       "...                                                  ...     ...  ..   \n",
       "12638  \\n\\n    \\n       \\n      well here you go;  so...    male  17   \n",
       "12639  \\n\\n    \\n       \\n      Ok, seriously people,...    male  17   \n",
       "12640  \\n\\n    \\n       \\n      Hhahahahahaha, I laug...    male  17   \n",
       "12641  \\n\\n    \\n       \\n      Ok, this is my 4th po...    male  17   \n",
       "12642  \\n\\n    \\n       \\n      Rosie, did you delete...    male  17   \n",
       "\n",
       "         Industry Astrosign  \n",
       "0         Student     Libra  \n",
       "1         Student     Libra  \n",
       "2         Student     Libra  \n",
       "3         Student     Libra  \n",
       "4         Student     Libra  \n",
       "...           ...       ...  \n",
       "12638  Non-Profit    Gemini  \n",
       "12639  Non-Profit    Gemini  \n",
       "12640  Non-Profit    Gemini  \n",
       "12641  Non-Profit    Gemini  \n",
       "12642  Non-Profit    Gemini  \n",
       "\n",
       "[12643 rows x 7 columns]"
      ]
     },
     "execution_count": 49,
     "metadata": {},
     "output_type": "execute_result"
    }
   ],
   "source": [
    "xmldata_bin"
   ]
  },
  {
   "cell_type": "code",
   "execution_count": 50,
   "metadata": {},
   "outputs": [
    {
     "data": {
      "text/plain": [
       "67"
      ]
     },
     "execution_count": 50,
     "metadata": {},
     "output_type": "execute_result"
    }
   ],
   "source": [
    "xmldata_bin['Id'].nunique()"
   ]
  },
  {
   "cell_type": "code",
   "execution_count": 51,
   "metadata": {},
   "outputs": [],
   "source": [
    "xmldata_bin.to_csv('../CSVData/BINData.csv',index=False)"
   ]
  },
  {
   "cell_type": "markdown",
   "metadata": {},
   "source": [
    "### ----------------------------------------------------------------------------------------------------------------------------\n"
   ]
  },
  {
   "cell_type": "markdown",
   "metadata": {},
   "source": [
    "## 5.  unknown-8bit Filenames"
   ]
  },
  {
   "cell_type": "code",
   "execution_count": 52,
   "metadata": {},
   "outputs": [],
   "source": [
    "filenames_unknown = list(df[df['Encoding']=='unknown-8bit']['Filename'])"
   ]
  },
  {
   "cell_type": "code",
   "execution_count": 53,
   "metadata": {},
   "outputs": [
    {
     "data": {
      "text/plain": [
       "497"
      ]
     },
     "execution_count": 53,
     "metadata": {},
     "output_type": "execute_result"
    }
   ],
   "source": [
    "len(filenames_unknown)"
   ]
  },
  {
   "cell_type": "code",
   "execution_count": 54,
   "metadata": {},
   "outputs": [],
   "source": [
    "xmldata_unknown = pd.DataFrame(columns='Id Date Post Gender Age Industry Astrosign'.split())"
   ]
  },
  {
   "cell_type": "code",
   "execution_count": 55,
   "metadata": {},
   "outputs": [
    {
     "data": {
      "text/html": [
       "<div>\n",
       "<style scoped>\n",
       "    .dataframe tbody tr th:only-of-type {\n",
       "        vertical-align: middle;\n",
       "    }\n",
       "\n",
       "    .dataframe tbody tr th {\n",
       "        vertical-align: top;\n",
       "    }\n",
       "\n",
       "    .dataframe thead th {\n",
       "        text-align: right;\n",
       "    }\n",
       "</style>\n",
       "<table border=\"1\" class=\"dataframe\">\n",
       "  <thead>\n",
       "    <tr style=\"text-align: right;\">\n",
       "      <th></th>\n",
       "      <th>Id</th>\n",
       "      <th>Date</th>\n",
       "      <th>Post</th>\n",
       "      <th>Gender</th>\n",
       "      <th>Age</th>\n",
       "      <th>Industry</th>\n",
       "      <th>Astrosign</th>\n",
       "    </tr>\n",
       "  </thead>\n",
       "  <tbody>\n",
       "  </tbody>\n",
       "</table>\n",
       "</div>"
      ],
      "text/plain": [
       "Empty DataFrame\n",
       "Columns: [Id, Date, Post, Gender, Age, Industry, Astrosign]\n",
       "Index: []"
      ]
     },
     "execution_count": 55,
     "metadata": {},
     "output_type": "execute_result"
    }
   ],
   "source": [
    "xmldata_unknown"
   ]
  },
  {
   "cell_type": "code",
   "execution_count": 56,
   "metadata": {},
   "outputs": [],
   "source": [
    "pattern = r\"\\d{2},\\w+,\\d{4}\""
   ]
  },
  {
   "cell_type": "code",
   "execution_count": 57,
   "metadata": {},
   "outputs": [
    {
     "name": "stderr",
     "output_type": "stream",
     "text": [
      "Progress: 100%|██████████| 497/497 [19:55<00:00,  2.41s/it]\n"
     ]
    }
   ],
   "source": [
    "for file in tqdm(filenames_unknown,desc='Progress'):\n",
    "    blog = ''\n",
    "    with open(file,errors=\"replace\") as f:\n",
    "        for line in f:\n",
    "            blog = blog + line\n",
    "    \n",
    "    tempdata = list(re.split('<Blog>|<date>|</date>|<post>|</post>|</Blog>',blog))\n",
    "    \n",
    "    blogdata = []\n",
    "    for ele in tempdata:\n",
    "        if ele.strip():\n",
    "            blogdata.append(ele)\n",
    "            \n",
    "    userid = file.split('.')[0]\n",
    "    gender = file.split('.')[1]\n",
    "    age = file.split('.')[2]\n",
    "    field_of_work = file.split('.')[3]\n",
    "    ast_sign = file.split('.')[4]\n",
    "\n",
    "    i=0\n",
    "    for i in range(len(blogdata)):\n",
    "        if ((len(blogdata[i])<20) and (len(re.findall(pattern,blogdata[i]))!=0)):\n",
    "            date = blogdata[i]\n",
    "        else:\n",
    "            post = blogdata[i]\n",
    "            blog_dict ={'Id':userid,'Date':date, 'Post':post, 'Gender':gender,'Age':age,'Industry':field_of_work,'Astrosign':ast_sign}\n",
    "            xmldata_unknown = xmldata_unknown.append(blog_dict,ignore_index=True)"
   ]
  },
  {
   "cell_type": "code",
   "execution_count": 58,
   "metadata": {},
   "outputs": [
    {
     "data": {
      "text/html": [
       "<div>\n",
       "<style scoped>\n",
       "    .dataframe tbody tr th:only-of-type {\n",
       "        vertical-align: middle;\n",
       "    }\n",
       "\n",
       "    .dataframe tbody tr th {\n",
       "        vertical-align: top;\n",
       "    }\n",
       "\n",
       "    .dataframe thead th {\n",
       "        text-align: right;\n",
       "    }\n",
       "</style>\n",
       "<table border=\"1\" class=\"dataframe\">\n",
       "  <thead>\n",
       "    <tr style=\"text-align: right;\">\n",
       "      <th></th>\n",
       "      <th>Id</th>\n",
       "      <th>Date</th>\n",
       "      <th>Post</th>\n",
       "      <th>Gender</th>\n",
       "      <th>Age</th>\n",
       "      <th>Industry</th>\n",
       "      <th>Astrosign</th>\n",
       "    </tr>\n",
       "  </thead>\n",
       "  <tbody>\n",
       "    <tr>\n",
       "      <th>0</th>\n",
       "      <td>1000866</td>\n",
       "      <td>23,November,2002</td>\n",
       "      <td>\\n\\n\\t \\n       Yeah, sorry for not writing fo...</td>\n",
       "      <td>female</td>\n",
       "      <td>17</td>\n",
       "      <td>Student</td>\n",
       "      <td>Libra</td>\n",
       "    </tr>\n",
       "    <tr>\n",
       "      <th>1</th>\n",
       "      <td>1000866</td>\n",
       "      <td>20,November,2002</td>\n",
       "      <td>\\n\\n\\t \\n       Yeah, so today was ok, late ar...</td>\n",
       "      <td>female</td>\n",
       "      <td>17</td>\n",
       "      <td>Student</td>\n",
       "      <td>Libra</td>\n",
       "    </tr>\n",
       "    <tr>\n",
       "      <th>2</th>\n",
       "      <td>1000866</td>\n",
       "      <td>19,November,2002</td>\n",
       "      <td>\\n\\n\\t \\n       Yay, Tuesday...no longer Monda...</td>\n",
       "      <td>female</td>\n",
       "      <td>17</td>\n",
       "      <td>Student</td>\n",
       "      <td>Libra</td>\n",
       "    </tr>\n",
       "    <tr>\n",
       "      <th>3</th>\n",
       "      <td>1000866</td>\n",
       "      <td>18,November,2002</td>\n",
       "      <td>\\n\\n\\t \\n      RAR!\\n    \\n</td>\n",
       "      <td>female</td>\n",
       "      <td>17</td>\n",
       "      <td>Student</td>\n",
       "      <td>Libra</td>\n",
       "    </tr>\n",
       "    <tr>\n",
       "      <th>4</th>\n",
       "      <td>1000866</td>\n",
       "      <td>18,November,2002</td>\n",
       "      <td>\\n\\n\\t \\n       Thought- OK...so, I'm all for ...</td>\n",
       "      <td>female</td>\n",
       "      <td>17</td>\n",
       "      <td>Student</td>\n",
       "      <td>Libra</td>\n",
       "    </tr>\n",
       "    <tr>\n",
       "      <th>...</th>\n",
       "      <td>...</td>\n",
       "      <td>...</td>\n",
       "      <td>...</td>\n",
       "      <td>...</td>\n",
       "      <td>...</td>\n",
       "      <td>...</td>\n",
       "      <td>...</td>\n",
       "    </tr>\n",
       "    <tr>\n",
       "      <th>153140</th>\n",
       "      <td>998237</td>\n",
       "      <td>02,October,2003</td>\n",
       "      <td>\\n\\n\\t \\n      okay im in the libary at school...</td>\n",
       "      <td>female</td>\n",
       "      <td>16</td>\n",
       "      <td>indUnk</td>\n",
       "      <td>Virgo</td>\n",
       "    </tr>\n",
       "    <tr>\n",
       "      <th>153141</th>\n",
       "      <td>998237</td>\n",
       "      <td>02,October,2003</td>\n",
       "      <td>\\n\\n\\t \\n      today was a GREAT day, i found ...</td>\n",
       "      <td>female</td>\n",
       "      <td>16</td>\n",
       "      <td>indUnk</td>\n",
       "      <td>Virgo</td>\n",
       "    </tr>\n",
       "    <tr>\n",
       "      <th>153142</th>\n",
       "      <td>998237</td>\n",
       "      <td>01,October,2003</td>\n",
       "      <td>\\n\\n\\t \\n           F A M E by  urlLink  spazy...</td>\n",
       "      <td>female</td>\n",
       "      <td>16</td>\n",
       "      <td>indUnk</td>\n",
       "      <td>Virgo</td>\n",
       "    </tr>\n",
       "    <tr>\n",
       "      <th>153143</th>\n",
       "      <td>998237</td>\n",
       "      <td>01,October,2003</td>\n",
       "      <td>\\n\\n\\t \\n      today was um, confusing?, ive b...</td>\n",
       "      <td>female</td>\n",
       "      <td>16</td>\n",
       "      <td>indUnk</td>\n",
       "      <td>Virgo</td>\n",
       "    </tr>\n",
       "    <tr>\n",
       "      <th>153144</th>\n",
       "      <td>998237</td>\n",
       "      <td>09,July,2004</td>\n",
       "      <td>\\n\\n\\t \\n      well hey look who it is...  im ...</td>\n",
       "      <td>female</td>\n",
       "      <td>16</td>\n",
       "      <td>indUnk</td>\n",
       "      <td>Virgo</td>\n",
       "    </tr>\n",
       "  </tbody>\n",
       "</table>\n",
       "<p>153145 rows × 7 columns</p>\n",
       "</div>"
      ],
      "text/plain": [
       "             Id              Date  \\\n",
       "0       1000866  23,November,2002   \n",
       "1       1000866  20,November,2002   \n",
       "2       1000866  19,November,2002   \n",
       "3       1000866  18,November,2002   \n",
       "4       1000866  18,November,2002   \n",
       "...         ...               ...   \n",
       "153140   998237   02,October,2003   \n",
       "153141   998237   02,October,2003   \n",
       "153142   998237   01,October,2003   \n",
       "153143   998237   01,October,2003   \n",
       "153144   998237      09,July,2004   \n",
       "\n",
       "                                                     Post  Gender Age  \\\n",
       "0       \\n\\n\\t \\n       Yeah, sorry for not writing fo...  female  17   \n",
       "1       \\n\\n\\t \\n       Yeah, so today was ok, late ar...  female  17   \n",
       "2       \\n\\n\\t \\n       Yay, Tuesday...no longer Monda...  female  17   \n",
       "3                             \\n\\n\\t \\n      RAR!\\n    \\n  female  17   \n",
       "4       \\n\\n\\t \\n       Thought- OK...so, I'm all for ...  female  17   \n",
       "...                                                   ...     ...  ..   \n",
       "153140  \\n\\n\\t \\n      okay im in the libary at school...  female  16   \n",
       "153141  \\n\\n\\t \\n      today was a GREAT day, i found ...  female  16   \n",
       "153142  \\n\\n\\t \\n           F A M E by  urlLink  spazy...  female  16   \n",
       "153143  \\n\\n\\t \\n      today was um, confusing?, ive b...  female  16   \n",
       "153144  \\n\\n\\t \\n      well hey look who it is...  im ...  female  16   \n",
       "\n",
       "       Industry Astrosign  \n",
       "0       Student     Libra  \n",
       "1       Student     Libra  \n",
       "2       Student     Libra  \n",
       "3       Student     Libra  \n",
       "4       Student     Libra  \n",
       "...         ...       ...  \n",
       "153140   indUnk     Virgo  \n",
       "153141   indUnk     Virgo  \n",
       "153142   indUnk     Virgo  \n",
       "153143   indUnk     Virgo  \n",
       "153144   indUnk     Virgo  \n",
       "\n",
       "[153145 rows x 7 columns]"
      ]
     },
     "execution_count": 58,
     "metadata": {},
     "output_type": "execute_result"
    }
   ],
   "source": [
    "xmldata_unknown"
   ]
  },
  {
   "cell_type": "code",
   "execution_count": 59,
   "metadata": {},
   "outputs": [
    {
     "data": {
      "text/plain": [
       "497"
      ]
     },
     "execution_count": 59,
     "metadata": {},
     "output_type": "execute_result"
    }
   ],
   "source": [
    "xmldata_unknown['Id'].nunique()"
   ]
  },
  {
   "cell_type": "code",
   "execution_count": 60,
   "metadata": {},
   "outputs": [],
   "source": [
    "xmldata_unknown.to_csv('../CSVData/Unknown8bitData.csv',index=False)"
   ]
  }
 ],
 "metadata": {
  "kernelspec": {
   "display_name": "Python 3",
   "language": "python",
   "name": "python3"
  },
  "language_info": {
   "codemirror_mode": {
    "name": "ipython",
    "version": 3
   },
   "file_extension": ".py",
   "mimetype": "text/x-python",
   "name": "python",
   "nbconvert_exporter": "python",
   "pygments_lexer": "ipython3",
   "version": "3.8.5"
  }
 },
 "nbformat": 4,
 "nbformat_minor": 1
}
