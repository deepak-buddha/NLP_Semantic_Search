{
 "cells": [
  {
   "cell_type": "code",
   "execution_count": 1,
   "metadata": {},
   "outputs": [],
   "source": [
    "import glob\n",
    "import pandas as pd\n",
    "import numpy as np\n",
    "import xml.etree.ElementTree as et\n",
    "import os\n",
    "from datetime import datetime\n",
    "import re\n",
    "from tqdm import tqdm"
   ]
  },
  {
   "cell_type": "code",
   "execution_count": 38,
   "metadata": {},
   "outputs": [],
   "source": [
    "# Creating a dataframe with our required fields\n",
    "df = pd.DataFrame(columns='Id Date Post Gender Age Industry Astrosign'.split())"
   ]
  },
  {
   "cell_type": "code",
   "execution_count": 12,
   "metadata": {},
   "outputs": [],
   "source": [
    "# Importing ASCII Data\n",
    "df1 = pd.read_csv('CSVData/ASCIIData.csv')"
   ]
  },
  {
   "cell_type": "code",
   "execution_count": 15,
   "metadata": {},
   "outputs": [],
   "source": [
    "# Importing UTF-8 Data\n",
    "df2 = pd.read_csv('CSVData/UTF8Data.csv')"
   ]
  },
  {
   "cell_type": "code",
   "execution_count": 24,
   "metadata": {},
   "outputs": [],
   "source": [
    "# Importing BIN Data\n",
    "df3 = pd.read_csv('CSVData/BINData.csv')"
   ]
  },
  {
   "cell_type": "code",
   "execution_count": 30,
   "metadata": {},
   "outputs": [],
   "source": [
    "# Importing unknown-8bit Data\n",
    "df4 = pd.read_csv('CSVData/Unknown8bitData.csv')"
   ]
  },
  {
   "cell_type": "code",
   "execution_count": 32,
   "metadata": {},
   "outputs": [],
   "source": [
    "# Importing ISO-8859-1 Data\n",
    "df5 = pd.read_csv('CSVData/ISOData.csv')"
   ]
  },
  {
   "cell_type": "code",
   "execution_count": 33,
   "metadata": {},
   "outputs": [
    {
     "data": {
      "text/plain": [
       "(175691, 7)"
      ]
     },
     "execution_count": 33,
     "metadata": {},
     "output_type": "execute_result"
    }
   ],
   "source": [
    "df1.shape"
   ]
  },
  {
   "cell_type": "code",
   "execution_count": 34,
   "metadata": {},
   "outputs": [
    {
     "data": {
      "text/plain": [
       "(327664, 7)"
      ]
     },
     "execution_count": 34,
     "metadata": {},
     "output_type": "execute_result"
    }
   ],
   "source": [
    "df2.shape"
   ]
  },
  {
   "cell_type": "code",
   "execution_count": 35,
   "metadata": {},
   "outputs": [
    {
     "data": {
      "text/plain": [
       "(12643, 7)"
      ]
     },
     "execution_count": 35,
     "metadata": {},
     "output_type": "execute_result"
    }
   ],
   "source": [
    "df3.shape"
   ]
  },
  {
   "cell_type": "code",
   "execution_count": 36,
   "metadata": {},
   "outputs": [
    {
     "data": {
      "text/plain": [
       "(153145, 7)"
      ]
     },
     "execution_count": 36,
     "metadata": {},
     "output_type": "execute_result"
    }
   ],
   "source": [
    "df4.shape"
   ]
  },
  {
   "cell_type": "code",
   "execution_count": 37,
   "metadata": {},
   "outputs": [
    {
     "data": {
      "text/plain": [
       "(9051, 7)"
      ]
     },
     "execution_count": 37,
     "metadata": {},
     "output_type": "execute_result"
    }
   ],
   "source": [
    "df5.shape"
   ]
  },
  {
   "cell_type": "code",
   "execution_count": 39,
   "metadata": {},
   "outputs": [],
   "source": [
    "datas = [df1,df2,df3,df4,df5]"
   ]
  },
  {
   "cell_type": "code",
   "execution_count": 41,
   "metadata": {},
   "outputs": [],
   "source": [
    "# Our combined data across all the blog files\n",
    "df = pd.concat(datas)"
   ]
  },
  {
   "cell_type": "code",
   "execution_count": 43,
   "metadata": {},
   "outputs": [
    {
     "data": {
      "text/plain": [
       "(678194, 7)"
      ]
     },
     "execution_count": 43,
     "metadata": {},
     "output_type": "execute_result"
    }
   ],
   "source": [
    "df.shape"
   ]
  },
  {
   "cell_type": "code",
   "execution_count": 44,
   "metadata": {},
   "outputs": [],
   "source": [
    "df.to_csv('CSVData/Allformatdata.csv',index=False)"
   ]
  },
  {
   "cell_type": "code",
   "execution_count": 45,
   "metadata": {},
   "outputs": [
    {
     "data": {
      "text/html": [
       "<div>\n",
       "<style scoped>\n",
       "    .dataframe tbody tr th:only-of-type {\n",
       "        vertical-align: middle;\n",
       "    }\n",
       "\n",
       "    .dataframe tbody tr th {\n",
       "        vertical-align: top;\n",
       "    }\n",
       "\n",
       "    .dataframe thead th {\n",
       "        text-align: right;\n",
       "    }\n",
       "</style>\n",
       "<table border=\"1\" class=\"dataframe\">\n",
       "  <thead>\n",
       "    <tr style=\"text-align: right;\">\n",
       "      <th></th>\n",
       "      <th>Id</th>\n",
       "      <th>Date</th>\n",
       "      <th>Post</th>\n",
       "      <th>Gender</th>\n",
       "      <th>Age</th>\n",
       "      <th>Industry</th>\n",
       "      <th>Astrosign</th>\n",
       "    </tr>\n",
       "  </thead>\n",
       "  <tbody>\n",
       "    <tr>\n",
       "      <th>0</th>\n",
       "      <td>1000331</td>\n",
       "      <td>31,May,2004</td>\n",
       "      <td>\\n\\n\\t \\n      Well, everyone got up and going...</td>\n",
       "      <td>female</td>\n",
       "      <td>37</td>\n",
       "      <td>indUnk</td>\n",
       "      <td>Leo</td>\n",
       "    </tr>\n",
       "    <tr>\n",
       "      <th>1</th>\n",
       "      <td>1000331</td>\n",
       "      <td>29,May,2004</td>\n",
       "      <td>\\n\\n\\t \\n      My four-year old never stops ta...</td>\n",
       "      <td>female</td>\n",
       "      <td>37</td>\n",
       "      <td>indUnk</td>\n",
       "      <td>Leo</td>\n",
       "    </tr>\n",
       "    <tr>\n",
       "      <th>2</th>\n",
       "      <td>1000331</td>\n",
       "      <td>28,May,2004</td>\n",
       "      <td>\\n\\n\\t \\n      Actually it's not raining yet, ...</td>\n",
       "      <td>female</td>\n",
       "      <td>37</td>\n",
       "      <td>indUnk</td>\n",
       "      <td>Leo</td>\n",
       "    </tr>\n",
       "    <tr>\n",
       "      <th>3</th>\n",
       "      <td>1000331</td>\n",
       "      <td>28,May,2004</td>\n",
       "      <td>\\n\\n\\t \\n      Ha! Just set up my RSS feed - t...</td>\n",
       "      <td>female</td>\n",
       "      <td>37</td>\n",
       "      <td>indUnk</td>\n",
       "      <td>Leo</td>\n",
       "    </tr>\n",
       "    <tr>\n",
       "      <th>4</th>\n",
       "      <td>1000331</td>\n",
       "      <td>28,May,2004</td>\n",
       "      <td>\\n\\n\\t \\n      Oh, which just reminded me, we ...</td>\n",
       "      <td>female</td>\n",
       "      <td>37</td>\n",
       "      <td>indUnk</td>\n",
       "      <td>Leo</td>\n",
       "    </tr>\n",
       "    <tr>\n",
       "      <th>...</th>\n",
       "      <td>...</td>\n",
       "      <td>...</td>\n",
       "      <td>...</td>\n",
       "      <td>...</td>\n",
       "      <td>...</td>\n",
       "      <td>...</td>\n",
       "      <td>...</td>\n",
       "    </tr>\n",
       "    <tr>\n",
       "      <th>9046</th>\n",
       "      <td>963380</td>\n",
       "      <td>04,July,2004</td>\n",
       "      <td>\\n\\n\\t \\n      I was pretty close to right on ...</td>\n",
       "      <td>male</td>\n",
       "      <td>24</td>\n",
       "      <td>Student</td>\n",
       "      <td>Cancer</td>\n",
       "    </tr>\n",
       "    <tr>\n",
       "      <th>9047</th>\n",
       "      <td>963380</td>\n",
       "      <td>04,July,2004</td>\n",
       "      <td>\\n\\n\\t \\n      On the way home tonight I happe...</td>\n",
       "      <td>male</td>\n",
       "      <td>24</td>\n",
       "      <td>Student</td>\n",
       "      <td>Cancer</td>\n",
       "    </tr>\n",
       "    <tr>\n",
       "      <th>9048</th>\n",
       "      <td>963380</td>\n",
       "      <td>03,July,2004</td>\n",
       "      <td>\\n\\n\\t \\n      Some things I didn't touch on. ...</td>\n",
       "      <td>male</td>\n",
       "      <td>24</td>\n",
       "      <td>Student</td>\n",
       "      <td>Cancer</td>\n",
       "    </tr>\n",
       "    <tr>\n",
       "      <th>9049</th>\n",
       "      <td>963380</td>\n",
       "      <td>03,July,2004</td>\n",
       "      <td>\\n\\n\\t \\n      It's been an interesting week. ...</td>\n",
       "      <td>male</td>\n",
       "      <td>24</td>\n",
       "      <td>Student</td>\n",
       "      <td>Cancer</td>\n",
       "    </tr>\n",
       "    <tr>\n",
       "      <th>9050</th>\n",
       "      <td>963380</td>\n",
       "      <td>03,August,2004</td>\n",
       "      <td>\\n\\n\\t \\n      Alright, here's the breakdown a...</td>\n",
       "      <td>male</td>\n",
       "      <td>24</td>\n",
       "      <td>Student</td>\n",
       "      <td>Cancer</td>\n",
       "    </tr>\n",
       "  </tbody>\n",
       "</table>\n",
       "<p>678194 rows × 7 columns</p>\n",
       "</div>"
      ],
      "text/plain": [
       "           Id            Date  \\\n",
       "0     1000331     31,May,2004   \n",
       "1     1000331     29,May,2004   \n",
       "2     1000331     28,May,2004   \n",
       "3     1000331     28,May,2004   \n",
       "4     1000331     28,May,2004   \n",
       "...       ...             ...   \n",
       "9046   963380    04,July,2004   \n",
       "9047   963380    04,July,2004   \n",
       "9048   963380    03,July,2004   \n",
       "9049   963380    03,July,2004   \n",
       "9050   963380  03,August,2004   \n",
       "\n",
       "                                                   Post  Gender  Age Industry  \\\n",
       "0     \\n\\n\\t \\n      Well, everyone got up and going...  female   37   indUnk   \n",
       "1     \\n\\n\\t \\n      My four-year old never stops ta...  female   37   indUnk   \n",
       "2     \\n\\n\\t \\n      Actually it's not raining yet, ...  female   37   indUnk   \n",
       "3     \\n\\n\\t \\n      Ha! Just set up my RSS feed - t...  female   37   indUnk   \n",
       "4     \\n\\n\\t \\n      Oh, which just reminded me, we ...  female   37   indUnk   \n",
       "...                                                 ...     ...  ...      ...   \n",
       "9046  \\n\\n\\t \\n      I was pretty close to right on ...    male   24  Student   \n",
       "9047  \\n\\n\\t \\n      On the way home tonight I happe...    male   24  Student   \n",
       "9048  \\n\\n\\t \\n      Some things I didn't touch on. ...    male   24  Student   \n",
       "9049  \\n\\n\\t \\n      It's been an interesting week. ...    male   24  Student   \n",
       "9050  \\n\\n\\t \\n      Alright, here's the breakdown a...    male   24  Student   \n",
       "\n",
       "     Astrosign  \n",
       "0          Leo  \n",
       "1          Leo  \n",
       "2          Leo  \n",
       "3          Leo  \n",
       "4          Leo  \n",
       "...        ...  \n",
       "9046    Cancer  \n",
       "9047    Cancer  \n",
       "9048    Cancer  \n",
       "9049    Cancer  \n",
       "9050    Cancer  \n",
       "\n",
       "[678194 rows x 7 columns]"
      ]
     },
     "execution_count": 45,
     "metadata": {},
     "output_type": "execute_result"
    }
   ],
   "source": [
    "df"
   ]
  }
 ],
 "metadata": {
  "kernelspec": {
   "display_name": "Python 3",
   "language": "python",
   "name": "python3"
  },
  "language_info": {
   "codemirror_mode": {
    "name": "ipython",
    "version": 3
   },
   "file_extension": ".py",
   "mimetype": "text/x-python",
   "name": "python",
   "nbconvert_exporter": "python",
   "pygments_lexer": "ipython3",
   "version": "3.8.5"
  }
 },
 "nbformat": 4,
 "nbformat_minor": 4
}
